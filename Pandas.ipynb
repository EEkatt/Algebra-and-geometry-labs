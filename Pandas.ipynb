{
 "cells": [
  {
   "cell_type": "markdown",
   "metadata": {
    "id": "78tT7bxx_-4Z"
   },
   "source": [
    "## Знакомство с библиотеками для анализа данных. Pandas\n",
    "\n",
    "Результат лабораторной работы − отчет в формате ноутбука Jupyter (ipynb-файл). Постарайтесь сделать ваш отчет интересным рассказом, последовательно отвечающим на вопросы из заданий. Помимо ответов на вопросы, в отчете так же должен быть код, однако чем меньше кода, тем лучше всем: нам − меньше проверять, вам —  проще найти ошибку или дополнить эксперимент. При проверке оценивается четкость ответов на вопросы, аккуратность отчета и кода.\n",
    "\n",
    "### О задании\n",
    "\n",
    "Лабораторные работы \"NumPy\" и \"Pandas\" направлены на работу с пакетами NumPy, Pandas и Matplotlib путём решения набора задач (да, алгебры и геометрии тут почти нет). В данных заданиях разрешено пользоваться только стандартной библиотекой языка Python, а также пакетами NumPy, Pandas и Matplotlib. Целью заданий является редактирование данного jupyter notebook-a (в части блоков с кодом на python) таким образом, чтобы были реализованы указанные в заданиях функции.\n",
    "\n",
    "\n",
    "### Оценивание и штрафы\n",
    "\n",
    "* Каждая из задач имеет определенную «стоимость» (указана в скобках около задачи)\n",
    "* «Похожие» решения считаются плагиатом и все задействованные студенты (в том числе те, у кого списали) не могут получить за него больше 0 баллов\n",
    "* Если вы нашли решение какого-то из заданий в открытом источнике, необходимо добавить ссылку на этот источник (скорее всего вы будете не единственным, кто это нашел, поэтому чтобы исключить подозрение в плагиате, необходима ссылка на источник)\n",
    "* Не оцениваются задания с удалёнными формулировками\n",
    "* Не оценивается лабораторная работа целиком, если она была выложена в открытый источник"
   ]
  },
  {
   "cell_type": "markdown",
   "metadata": {
    "id": "HhrV4i5n_-4f"
   },
   "source": [
    "### Аналитика данных с [Pandas](https://pandas.pydata.org/) "
   ]
  },
  {
   "cell_type": "markdown",
   "metadata": {
    "id": "2AsbjE1B_-4f"
   },
   "source": [
    "Загрузите таблицу с данными из [```articles.csv```](https://disk.yandex.ru/i/m4rxX9t3MGMrnQ). Удалите записи, в которых присутствуют пропуски."
   ]
  },
  {
   "cell_type": "markdown",
   "metadata": {
    "id": "lFWRb7f9_-4f"
   },
   "source": [
    "**(0.5 балла) Задача 1.** Проделайте следующие базовые операции с датафреймами:\n",
    "\n",
    "1. определите количество различных издательств в таблице;\n",
    "2. найдите количество опубликованных статей в отрезке [2016-06-01, 2016-12-31];\n",
    "3. посчитайте распределение статей автора *Tom Ciccotta* по годам;\n",
    "4. найдите месяц, в котором было наибольшее число статей;\n",
    "5. выпишите 3 первые статьи автора *John Hayward* в 2016 году."
   ]
  },
  {
   "cell_type": "code",
   "execution_count": 29,
   "metadata": {
    "id": "if6igj1a_-4g"
   },
   "outputs": [
    {
     "name": "stdout",
     "output_type": "stream",
     "text": [
      "---------- Задание 1. Пункт 1: ----------\n",
      "Количество различных издательств: 5 \n",
      "\n",
      "---------- Задание 1. Пункт 2: ----------\n",
      "Kоличество опубликованных статей в заданном промежутке: 17159 \n",
      "\n",
      "---------- Задание 1. Пункт 3: ----------\n",
      "распределение статей автора по годам:\n",
      "       count\n",
      "year       \n",
      "2016    124\n",
      "2017    132 \n",
      "\n",
      "---------- Задание 1. Пункт 4: ----------\n",
      "Месяц, в котором вышлоло наибольшее число статей:\n",
      "        count\n",
      "month       \n",
      "1       5235 \n",
      "\n",
      "---------- Задание 1. Пункт 5: ----------\n",
      "Первые три статьи автора John Hayward в 2016 году:\n",
      " 16861    Indonesian Couple Beaten with Canes for Violat...\n",
      "22041    Islamic State Claims Credit For Gun Attack On ...\n",
      "27561    Protests Across India Against Saudi Execution ...\n",
      "Name: title, dtype: object \n",
      "\n"
     ]
    }
   ],
   "source": [
    "import pandas as pd\n",
    "import numpy as np\n",
    "\n",
    "df = pd.read_csv('Downloads/articles.csv')\n",
    "df.replace(\"\", np.nan, inplace = True)\n",
    "df.dropna(inplace = True)\n",
    "\n",
    "print ('-'*10, 'Задание 1. Пункт 1:', '-'*10)\n",
    "print ('Количество различных издательств:', df.publication.nunique(), '\\n')\n",
    "\n",
    "print ('-'*10, 'Задание 1. Пункт 2:', '-'*10)\n",
    "out = ((df['date'] >= '2016-06-01') & (df['date'] <= '2016-12-31'))\n",
    "print ('Kоличество опубликованных статей в заданном промежутке:', df.loc[out].shape[0], '\\n')\n",
    "\n",
    "print ('-'*10, 'Задание 1. Пункт 3:', '-'*10)\n",
    "out = df.loc[df['author'] == 'Tom Ciccotta'].groupby(df.year).agg({'count'})['id']\n",
    "print ('распределение статей автора по годам:\\n', out, '\\n')\n",
    "\n",
    "print ('-'*10, 'Задание 1. Пункт 4:', '-'*10)\n",
    "out = (df.groupby(df.month).agg({'count'}))\n",
    "out = out['id'].sort_values(['count'], ascending=[False])\n",
    "print ('Месяц, в котором вышлоло наибольшее число статей:\\n', out.head(1), '\\n')\n",
    "\n",
    "print ('-'*10, 'Задание 1. Пункт 5:', '-'*10)\n",
    "out = df[(df['author'] == 'John Hayward') & (df['year'] == 2016)].sort_values(['date'], ascending=[True])\n",
    "print ('Первые три статьи автора John Hayward в 2016 году:\\n', out.head(3)['title'], '\\n')"
   ]
  },
  {
   "cell_type": "markdown",
   "metadata": {
    "id": "ol_GwLpP_-4g"
   },
   "source": [
    "** Работа со строками в датафрейме. **\n",
    "\n",
    "Для датафреймов существуют методы работы со строковыми данными. Чтобы применить их, необходимо воспользоваться атрибутом ```str```, после чего вызвать нужные методы работы со строками. Например, вызов:\n",
    "\n",
    "```df['content'].str.len() ```\n",
    "\n",
    "подсчитает для каждой строчки в датафрейме количество символов в колонке content. Более подробную информацию про работу с текстовыми данными в Pandas можно найти [здесь](https://pandas.pydata.org/pandas-docs/stable/user_guide/text.html).\n"
   ]
  },
  {
   "cell_type": "markdown",
   "metadata": {
    "id": "f2ET68gI_-4h"
   },
   "source": [
    "**(0.5 балла) Задача 2.**\n",
    "\n",
    "Найдите в датафрейме всех авторов, имя которых содержит Faith. Выведите Series, состоящий из всех таких уникальных имен."
   ]
  },
  {
   "cell_type": "code",
   "execution_count": 8,
   "metadata": {
    "id": "wEZ0QyAB_-4h"
   },
   "outputs": [
    {
     "name": "stdout",
     "output_type": "stream",
     "text": [
      "[' Faith Haleh Robinson' 'Faith Karimi' 'Faith Haleh Robinson'\n",
      " 'Faith Karimi,' 'Faith Karimi ' 'Faith Karimi, ' ' Faith Karimi'\n",
      " ' Faith Karimi ']\n"
     ]
    }
   ],
   "source": [
    "all_count = df[df['author'].str.contains('Faith')]['author']\n",
    "uniq_count = all_count.unique()\n",
    "print (uniq_count)"
   ]
  },
  {
   "cell_type": "markdown",
   "metadata": {
    "id": "nLZshxpl_-4h"
   },
   "source": [
    "**(1 балл) Задача 3. **\n",
    "\n",
    "Как можно заметить, в таблице существует множество различных написаний имени Faith Karimi. В основном эти написания различаются пунктуацией - лишние пробелы и запятые. Для правильного подсчета статистик для текстовых данных зачастую возникает необходимость в их предобработке.\n",
    "\n",
    "Проведите следующие преобразования для колонок *author* и *content*:\n",
    "\n",
    "1. приведение текста к нижнему регистру;\n",
    "\n",
    "2. удаление всей пунктуации из текста;\n",
    "\n",
    "3. удаление пробелов в начале и конце строки;\n",
    "\n",
    "3. замена подряд идущих пробелов одним пробелом.\n",
    "\n",
    "Например, строка ```\"   It's 6 a.m. and I'm still doing this homework :((    \"```\n",
    "\n",
    "преобразуется в строку  ```its 6 am and im still doing this homework```\n",
    "\n",
    "Подсчитайте статистику для имени Faith из прошлого задания. Проверьте, что теперь различные способы написания «схлопываются» в один."
   ]
  },
  {
   "cell_type": "code",
   "execution_count": null,
   "metadata": {
    "id": "EvOm-nfj_-4h"
   },
   "outputs": [],
   "source": []
  },
  {
   "cell_type": "markdown",
   "metadata": {
    "id": "-YYF0B6T_-4h"
   },
   "source": [
    "**Группировка данных**\n",
    "\n",
    "С помощью метода [groupby](https://pandas.pydata.org/pandas-docs/stable/reference/api/pandas.DataFrame.groupby.html) удобно группировать данные по значениям одной или нескольких колонок. Далее можно вычислять различные статистики для каждой группы по отдельности.\n",
    "\n",
    "**(1 балл) Задача 4.**\n",
    "\n",
    "Выведите для каждого автора максимальное количество публикаций за календарный год (колонка year), а также сам год, на котором достигается этот максимум. Выведите топ-20 строк в порядке убывания количества публикаций.\n",
    "\n",
    "Пример:\n",
    "\n",
    "Василий Пупкин написал 3 статьи в 2016, и 4 в 2017, а его брат Иван Пупкин только 1 статью в 2016, а в 2017 он отправился в армию и статей не писал.\n",
    "\n",
    "Необходимо вывести\n",
    "\n",
    "```\n",
    "Василий Пупкин - 2017 - 4\n",
    "Иван Пупкин    - 2016 - 1\n",
    "```\n",
    "\n",
    "Обратите внимание, что несколько вызовов методов над датафреймами можно объединить в один pipeline. Другими словами, можно писать\n",
    "\n",
    "```\n",
    "df.func1().func2().funс3()\n",
    "```\n",
    "\n",
    "По возможности реализуйте требуемую функцию с помощью **одного** такого пайплайна. Делайте переносы для лучшей читаемости кода."
   ]
  },
  {
   "cell_type": "code",
   "execution_count": 164,
   "metadata": {
    "collapsed": true,
    "id": "NS9UjMz8_-4i"
   },
   "outputs": [
    {
     "name": "stdout",
     "output_type": "stream",
     "text": [
      "                          publication\n",
      "author              year             \n",
      "Breitbart News      2016         1317\n",
      "Pam Key             2016          820\n",
      "Charlie Spiering    2016          660\n",
      "Alex Swoyer         2016          584\n",
      "Daniel Nussbaum     2016          532\n",
      "AWR Hawkins         2016          525\n",
      "John Hayward        2016          521\n",
      "Jerome Hudson       2016          482\n",
      "Ian Hanchett        2016          429\n",
      "Joel B. Pollak      2016          417\n",
      "Jeff Poor           2016          323\n",
      "Warner Todd Huston  2016          316\n",
      "Trent Baker         2016          280\n",
      "Patrick Howley      2016          259\n",
      "Breitbart London    2016          258\n",
      "Frances Martel      2016          257\n",
      "Charlie Nash        2016          254\n",
      "Katherine Rodriguez 2017          231\n",
      "Ben Kew             2016          221\n",
      "Aaron Klein         2016          209\n"
     ]
    }
   ],
   "source": [
    "df_sort = df.groupby(['author','year'])[['publication']].count().loc[df.groupby(['author','year'])[['publication']].count().groupby('author')['publication'].idxmax()]\n",
    "df_sort = df_sort.sort_values(['publication'], ascending=[False]).head(20)\n",
    "print(df_sort)"
   ]
  },
  {
   "cell_type": "markdown",
   "metadata": {
    "id": "qjCxTc2J_-4i"
   },
   "source": [
    "**(1 балл) Задача 5.**\n",
    "Для каждой статьи $i$ исходного датафрейма посчитайте количество статей, опубликованных тем же издательством (publication), к моменту публикации $i$ (включая статьи того же дня).\n",
    "\n",
    "Обратите внимание, что для всех статей, выпущенных одним издательством в один день, должен получиться одинаковый ответ.\n",
    "\n",
    "*Hint*. Возможный вариант решения:\n",
    "\n",
    "1. сгруппировав данные по полям *publication*, *date*, посчитать размер каждой группы;\n",
    "2. приджойнить размер группы к основному датафрейму с помощью функуии ```pd.merge```."
   ]
  },
  {
   "cell_type": "code",
   "execution_count": 193,
   "metadata": {
    "id": "kB76OvB4_-4i"
   },
   "outputs": [
    {
     "data": {
      "text/html": [
       "<div>\n",
       "<style scoped>\n",
       "    .dataframe tbody tr th:only-of-type {\n",
       "        vertical-align: middle;\n",
       "    }\n",
       "\n",
       "    .dataframe tbody tr th {\n",
       "        vertical-align: top;\n",
       "    }\n",
       "\n",
       "    .dataframe thead th {\n",
       "        text-align: right;\n",
       "    }\n",
       "</style>\n",
       "<table border=\"1\" class=\"dataframe\">\n",
       "  <thead>\n",
       "    <tr style=\"text-align: right;\">\n",
       "      <th></th>\n",
       "      <th>id</th>\n",
       "      <th>title</th>\n",
       "      <th>publication</th>\n",
       "      <th>author</th>\n",
       "      <th>date</th>\n",
       "      <th>year</th>\n",
       "      <th>month</th>\n",
       "      <th>content</th>\n",
       "      <th>count</th>\n",
       "    </tr>\n",
       "  </thead>\n",
       "  <tbody>\n",
       "    <tr>\n",
       "      <th>0</th>\n",
       "      <td>17283</td>\n",
       "      <td>House Republicans Fret About Winning Their Hea...</td>\n",
       "      <td>New York Times</td>\n",
       "      <td>Carl Hulse</td>\n",
       "      <td>2016-12-31</td>\n",
       "      <td>2016</td>\n",
       "      <td>12</td>\n",
       "      <td>WASHINGTON  —   Congressional Republicans have...</td>\n",
       "      <td>4</td>\n",
       "    </tr>\n",
       "    <tr>\n",
       "      <th>1</th>\n",
       "      <td>17291</td>\n",
       "      <td>First, a Mixtape. Then a Romance. - The New Yo...</td>\n",
       "      <td>New York Times</td>\n",
       "      <td>Katherine Rosman</td>\n",
       "      <td>2016-12-31</td>\n",
       "      <td>2016</td>\n",
       "      <td>12</td>\n",
       "      <td>Just how   is Hillary Kerr, the    founder of ...</td>\n",
       "      <td>4</td>\n",
       "    </tr>\n",
       "    <tr>\n",
       "      <th>2</th>\n",
       "      <td>17292</td>\n",
       "      <td>Calling on Angels While Enduring the Trials of...</td>\n",
       "      <td>New York Times</td>\n",
       "      <td>Andy Newman</td>\n",
       "      <td>2016-12-31</td>\n",
       "      <td>2016</td>\n",
       "      <td>12</td>\n",
       "      <td>Angels are everywhere in the Muñiz family’s ap...</td>\n",
       "      <td>4</td>\n",
       "    </tr>\n",
       "    <tr>\n",
       "      <th>3</th>\n",
       "      <td>24819</td>\n",
       "      <td>Pan Pan, Father to a Generation of Pandas, Die...</td>\n",
       "      <td>New York Times</td>\n",
       "      <td>Erin McCann</td>\n",
       "      <td>2016-12-31</td>\n",
       "      <td>2016</td>\n",
       "      <td>12</td>\n",
       "      <td>Pan Pan, a giant panda whose virility helped s...</td>\n",
       "      <td>4</td>\n",
       "    </tr>\n",
       "    <tr>\n",
       "      <th>4</th>\n",
       "      <td>17284</td>\n",
       "      <td>Rift Between Officers and Residents as Killing...</td>\n",
       "      <td>New York Times</td>\n",
       "      <td>Benjamin Mueller and Al Baker</td>\n",
       "      <td>2017-06-19</td>\n",
       "      <td>2017</td>\n",
       "      <td>6</td>\n",
       "      <td>After the bullet shells get counted, the blood...</td>\n",
       "      <td>6</td>\n",
       "    </tr>\n",
       "    <tr>\n",
       "      <th>...</th>\n",
       "      <td>...</td>\n",
       "      <td>...</td>\n",
       "      <td>...</td>\n",
       "      <td>...</td>\n",
       "      <td>...</td>\n",
       "      <td>...</td>\n",
       "      <td>...</td>\n",
       "      <td>...</td>\n",
       "      <td>...</td>\n",
       "    </tr>\n",
       "    <tr>\n",
       "      <th>43689</th>\n",
       "      <td>73454</td>\n",
       "      <td>The Enduring Mystery of Pain Measurement</td>\n",
       "      <td>Atlantic</td>\n",
       "      <td>John Walsh</td>\n",
       "      <td>2017-01-10</td>\n",
       "      <td>2017</td>\n",
       "      <td>1</td>\n",
       "      <td>One night in May, my wife sat up in bed and sa...</td>\n",
       "      <td>19</td>\n",
       "    </tr>\n",
       "    <tr>\n",
       "      <th>43690</th>\n",
       "      <td>73455</td>\n",
       "      <td>What Conan O’Brien Means to Late Night’s Future</td>\n",
       "      <td>Atlantic</td>\n",
       "      <td>David Sims</td>\n",
       "      <td>2017-01-10</td>\n",
       "      <td>2017</td>\n",
       "      <td>1</td>\n",
       "      <td>Conan O’Brien was once the upstart of the   co...</td>\n",
       "      <td>19</td>\n",
       "    </tr>\n",
       "    <tr>\n",
       "      <th>43691</th>\n",
       "      <td>73456</td>\n",
       "      <td>The Absurdity of Attacking Celebrities to Defe...</td>\n",
       "      <td>Atlantic</td>\n",
       "      <td>Conor Friedersdorf</td>\n",
       "      <td>2017-01-10</td>\n",
       "      <td>2017</td>\n",
       "      <td>1</td>\n",
       "      <td>Fifty years ago, California Republicans electe...</td>\n",
       "      <td>19</td>\n",
       "    </tr>\n",
       "    <tr>\n",
       "      <th>43692</th>\n",
       "      <td>73457</td>\n",
       "      <td>Drive-Through Redwoods Are Monuments to Violen...</td>\n",
       "      <td>Atlantic</td>\n",
       "      <td>Sarah Zhang</td>\n",
       "      <td>2017-01-10</td>\n",
       "      <td>2017</td>\n",
       "      <td>1</td>\n",
       "      <td>This weekend, amidst a torrent of rain, one of...</td>\n",
       "      <td>19</td>\n",
       "    </tr>\n",
       "    <tr>\n",
       "      <th>43693</th>\n",
       "      <td>73458</td>\n",
       "      <td>How Superstar Economics Is Killing the NFL’s R...</td>\n",
       "      <td>Atlantic</td>\n",
       "      <td>Derek Thompson</td>\n",
       "      <td>2017-01-10</td>\n",
       "      <td>2017</td>\n",
       "      <td>1</td>\n",
       "      <td>For years the National Football League has bee...</td>\n",
       "      <td>19</td>\n",
       "    </tr>\n",
       "  </tbody>\n",
       "</table>\n",
       "<p>43694 rows × 9 columns</p>\n",
       "</div>"
      ],
      "text/plain": [
       "          id                                              title  \\\n",
       "0      17283  House Republicans Fret About Winning Their Hea...   \n",
       "1      17291  First, a Mixtape. Then a Romance. - The New Yo...   \n",
       "2      17292  Calling on Angels While Enduring the Trials of...   \n",
       "3      24819  Pan Pan, Father to a Generation of Pandas, Die...   \n",
       "4      17284  Rift Between Officers and Residents as Killing...   \n",
       "...      ...                                                ...   \n",
       "43689  73454           The Enduring Mystery of Pain Measurement   \n",
       "43690  73455    What Conan O’Brien Means to Late Night’s Future   \n",
       "43691  73456  The Absurdity of Attacking Celebrities to Defe...   \n",
       "43692  73457  Drive-Through Redwoods Are Monuments to Violen...   \n",
       "43693  73458  How Superstar Economics Is Killing the NFL’s R...   \n",
       "\n",
       "          publication                         author        date  year  month  \\\n",
       "0      New York Times                     Carl Hulse  2016-12-31  2016     12   \n",
       "1      New York Times               Katherine Rosman  2016-12-31  2016     12   \n",
       "2      New York Times                    Andy Newman  2016-12-31  2016     12   \n",
       "3      New York Times                    Erin McCann  2016-12-31  2016     12   \n",
       "4      New York Times  Benjamin Mueller and Al Baker  2017-06-19  2017      6   \n",
       "...               ...                            ...         ...   ...    ...   \n",
       "43689        Atlantic                    John Walsh   2017-01-10  2017      1   \n",
       "43690        Atlantic                     David Sims  2017-01-10  2017      1   \n",
       "43691        Atlantic             Conor Friedersdorf  2017-01-10  2017      1   \n",
       "43692        Atlantic                    Sarah Zhang  2017-01-10  2017      1   \n",
       "43693        Atlantic                 Derek Thompson  2017-01-10  2017      1   \n",
       "\n",
       "                                                 content  count  \n",
       "0      WASHINGTON  —   Congressional Republicans have...      4  \n",
       "1      Just how   is Hillary Kerr, the    founder of ...      4  \n",
       "2      Angels are everywhere in the Muñiz family’s ap...      4  \n",
       "3      Pan Pan, a giant panda whose virility helped s...      4  \n",
       "4      After the bullet shells get counted, the blood...      6  \n",
       "...                                                  ...    ...  \n",
       "43689  One night in May, my wife sat up in bed and sa...     19  \n",
       "43690  Conan O’Brien was once the upstart of the   co...     19  \n",
       "43691  Fifty years ago, California Republicans electe...     19  \n",
       "43692  This weekend, amidst a torrent of rain, one of...     19  \n",
       "43693  For years the National Football League has bee...     19  \n",
       "\n",
       "[43694 rows x 9 columns]"
      ]
     },
     "execution_count": 193,
     "metadata": {},
     "output_type": "execute_result"
    }
   ],
   "source": [
    "sort = df.groupby(['publication', 'date'])['id'].count().reset_index(name=\"count\")\n",
    "pd.merge(df, sort)\n"
   ]
  },
  {
   "cell_type": "markdown",
   "metadata": {
    "id": "AJhCKKeJ_-4i"
   },
   "source": [
    "### [Разреженные матрицы](https://ru.wikipedia.org/wiki/Разреженная_матрица)\n",
    "\n",
    "\n",
    "\n",
    "Вот здесь http://docs.scipy.org/doc/scipy/reference/sparse.html можно посмотреть, как различные форматы разреженных матриц реализованы в библиотеке `scipy`.\n",
    "\n",
    "Вот здесь https://www.cise.ufl.edu/research/sparse/matrices/index.html выложено много разреженных матриц из разнообразных приложений. Что особенно приятно, сайт предоставляет удобный клиент для скачивания, в котором доступен предпросмотр и данные о том, являются ли матрицы симметричными или положительно определёнными.\n",
    "\n",
    "Торговая сеть предоставила вам данные о покупках своих клиентов, представляющие собою \n",
    "таблицу со столбцами \n",
    "* Номер записи\n",
    "* *InvoiceNo* - номер чека\n",
    "* *StockCode* - код товара\n",
    "* *Description* - название товара\n",
    "\n",
    "Чтобы понять, какие товары покупают вместе, вы решили построить (разреженную) матрицу, строки и столбцы которой соответствуют различным товарам, а в клетке с \"номером\" $(g_1, g_2)$ стоит число $c(g_1 \\& g_2)$ --- количество чеков, содержащих оба товара. \n",
    "\n",
    "**(1 балл) Задача 6.** Ниже приведён код, который вам нужно дополнить, дописав функцию ``CreateMatrix``, создающую из структуры pandas.DataFrame разреженную матрицу. Ваша реализация должна удовлетворять следующим свойствам:\n",
    "* матрица должна создаваться эффективно и по возможности с минимальным числом циклов;\n",
    "* итоговая матрица должна позволять быстро отвечать на следующие вопросы:\n",
    "  - сколько всего было куплено товаров данного типа?\n",
    "  - какие пары товаров покупались вместе чаще всего?\n",
    "  - какие товары чаще всего покупались вместе с данным товаром?\n",
    "\n",
    "Пожалуйста, объясните, почему вы выбрали именно ту, а не иную архитектуру."
   ]
  },
  {
   "cell_type": "markdown",
   "metadata": {
    "id": "INVIDSPh_-4i"
   },
   "source": [
    "Загрузите таблицу с данными из [```Online Retail Short```](https://disk.yandex.ru/d/uDhAhZ6faBQ6jA)\n",
    "Загрузим данные:"
   ]
  },
  {
   "cell_type": "code",
   "execution_count": 171,
   "metadata": {
    "id": "NLRhlZRt_-4j"
   },
   "outputs": [],
   "source": [
    "import pandas as pd\n",
    "receipts = pd.read_csv('Downloads/Online Retail Short.csv', sep=';')"
   ]
  },
  {
   "cell_type": "markdown",
   "metadata": {
    "id": "NEfcOK4X_-4j"
   },
   "source": [
    "Распечатаем первые несколько строк, чтобы осознать структуру данных:"
   ]
  },
  {
   "cell_type": "code",
   "execution_count": 172,
   "metadata": {
    "id": "xMsDW5p9_-4j"
   },
   "outputs": [
    {
     "data": {
      "text/html": [
       "<div>\n",
       "<style scoped>\n",
       "    .dataframe tbody tr th:only-of-type {\n",
       "        vertical-align: middle;\n",
       "    }\n",
       "\n",
       "    .dataframe tbody tr th {\n",
       "        vertical-align: top;\n",
       "    }\n",
       "\n",
       "    .dataframe thead th {\n",
       "        text-align: right;\n",
       "    }\n",
       "</style>\n",
       "<table border=\"1\" class=\"dataframe\">\n",
       "  <thead>\n",
       "    <tr style=\"text-align: right;\">\n",
       "      <th></th>\n",
       "      <th>Unnamed: 0</th>\n",
       "      <th>InvoiceNo</th>\n",
       "      <th>StockCode</th>\n",
       "      <th>Description</th>\n",
       "    </tr>\n",
       "  </thead>\n",
       "  <tbody>\n",
       "    <tr>\n",
       "      <th>0</th>\n",
       "      <td>0</td>\n",
       "      <td>536365</td>\n",
       "      <td>85123A</td>\n",
       "      <td>WHITE HANGING HEART T-LIGHT HOLDER</td>\n",
       "    </tr>\n",
       "    <tr>\n",
       "      <th>1</th>\n",
       "      <td>1</td>\n",
       "      <td>536365</td>\n",
       "      <td>71053</td>\n",
       "      <td>WHITE METAL LANTERN</td>\n",
       "    </tr>\n",
       "    <tr>\n",
       "      <th>2</th>\n",
       "      <td>2</td>\n",
       "      <td>536365</td>\n",
       "      <td>84406B</td>\n",
       "      <td>CREAM CUPID HEARTS COAT HANGER</td>\n",
       "    </tr>\n",
       "    <tr>\n",
       "      <th>3</th>\n",
       "      <td>3</td>\n",
       "      <td>536365</td>\n",
       "      <td>84029G</td>\n",
       "      <td>KNITTED UNION FLAG HOT WATER BOTTLE</td>\n",
       "    </tr>\n",
       "    <tr>\n",
       "      <th>4</th>\n",
       "      <td>4</td>\n",
       "      <td>536365</td>\n",
       "      <td>84029E</td>\n",
       "      <td>RED WOOLLY HOTTIE WHITE HEART.</td>\n",
       "    </tr>\n",
       "  </tbody>\n",
       "</table>\n",
       "</div>"
      ],
      "text/plain": [
       "   Unnamed: 0 InvoiceNo StockCode                          Description\n",
       "0           0    536365    85123A   WHITE HANGING HEART T-LIGHT HOLDER\n",
       "1           1    536365     71053                  WHITE METAL LANTERN\n",
       "2           2    536365    84406B       CREAM CUPID HEARTS COAT HANGER\n",
       "3           3    536365    84029G  KNITTED UNION FLAG HOT WATER BOTTLE\n",
       "4           4    536365    84029E       RED WOOLLY HOTTIE WHITE HEART."
      ]
     },
     "execution_count": 172,
     "metadata": {},
     "output_type": "execute_result"
    }
   ],
   "source": [
    "receipts.head()"
   ]
  },
  {
   "cell_type": "markdown",
   "metadata": {
    "id": "H8g_-iWg_-4k"
   },
   "source": [
    "А теперь та самая функция. Вам могут пригодиться следующие конструкции:\n",
    "\n",
    "* ``for name, group in data.groupby('InvoiceNo')`` --- цикл, в котором ``name`` будут различными значениями ``InvoiceNo``, а ``group`` --- кусками нашего ``DataFrame`` с заданным значением ``InvoiceNo``.\n",
    "* ``for g1, g2 in itertools.combinations(list(group['StockCode']), 2)`` --- цикл, пробегающий пары различных элементов (сочетания по 2) из списка товаров из заданной группы."
   ]
  },
  {
   "cell_type": "code",
   "execution_count": 173,
   "metadata": {
    "id": "ULufqlPV_-4k"
   },
   "outputs": [],
   "source": [
    "import scipy.sparse as sps\n",
    "import itertools\n",
    "\n",
    "# Зачем бы нужны следующие две строки?)\n",
    "idx2code = sorted(set(receipts['StockCode']))\n",
    "code2idx = {code : i for i, code in enumerate(idx2code)}\n",
    "\n",
    "def CreateMatrix(data):\n",
    "    '''\n",
    "    Ввод\n",
    "    -----\n",
    "    receipts: структура pandas.DataFrame\n",
    "    \n",
    "    Вывод\n",
    "    ------\n",
    "    res: разреженная матрица\n",
    "    '''\n",
    "    # Your code here\n",
    "    raise NotImplementedError()"
   ]
  },
  {
   "cell_type": "markdown",
   "metadata": {
    "id": "Y7C_bsJQ_-4k"
   },
   "source": [
    "**(1 балл) Задача 7.** C помощью созданной вами матрицы ответьте на несколько вопросов:\n",
    "\n",
    "1) Какая пара товаров была куплена вместе наибольшее число раз? Пожалуйста, в качестве ответа укажите не `id`, а названия из столбца ``Descriptions``.\n",
    "\n",
    "2) Что чаще всего покупали вместе с ``KNITTED UNION FLAG HOT WATER BOTTLE``?\n",
    "\n",
    "В вашем ноутбуке должно быть продемонстрировано, как вы это находите с помощью матрицы!"
   ]
  },
  {
   "cell_type": "code",
   "execution_count": null,
   "metadata": {
    "id": "AlCBumZP_-4k"
   },
   "outputs": [],
   "source": []
  },
  {
   "cell_type": "markdown",
   "metadata": {
    "id": "bhWVlAY2_-4k"
   },
   "source": [
    "### Визуализация ([Matplotlib](https://matplotlib.org/stable/index.html))\n",
    "\n",
    "Обратите внимание, что у графиков должны быть подписаны оси, заголовок графика и при необходимости обязательно наличие легенды. За отсутствие названий графиков и подписей к осям могут снижаться баллы. Все картинки должны быть самодостаточны и визуально удобны для восприятия, так чтобы не нужно было смотреть ваш код или знать задание, чтобы понять что на них изображено.\n",
    "\n",
    "![](https://imgs.xkcd.com/comics/convincing.png)"
   ]
  },
  {
   "cell_type": "code",
   "execution_count": 10,
   "metadata": {
    "id": "T2O4DnBe_-4l"
   },
   "outputs": [],
   "source": [
    "# Графическая библиотека\n",
    "import matplotlib.pyplot as plt\n",
    "\n",
    "# Позволяет отрисовывать графики и изображения прямо в ноутбуке, а не в отдельном окне. Жизненно важная вещь!\n",
    "%matplotlib inline"
   ]
  },
  {
   "cell_type": "markdown",
   "metadata": {
    "id": "fWYlcYh__-4l"
   },
   "source": [
    "**(0.5 балла) Задача 8.** Используя функцию ```gen_uncertain_data``` для генерации выборки, отобразите на графике синим цветом функцию ```y(x)```, а также ее доверительный интервал в виде закрашенной зеленым цветом области от ```y[i] - error[i]``` до ```y[i] + error[i]```. Полезной может оказаться функция fill_between.\n",
    "\n",
    "    def gen_uncertain_data():\n",
    "        x = np.linspace(0, 30, 100)\n",
    "        y = np.sin(x/6*np.pi) + np.random.normal(0, 0.02, size=x.shape)\n",
    "        error = np.random.normal(0.1, 0.02, size=y.shape)\n",
    "        return x, y, error"
   ]
  },
  {
   "cell_type": "code",
   "execution_count": 111,
   "metadata": {
    "id": "6Bvw_Mra_-4l"
   },
   "outputs": [
    {
     "data": {
      "image/png": "[encoded data removed]",
      "text/plain": [
       "<Figure size 432x288 with 1 Axes>"
      ]
     },
     "metadata": {
      "needs_background": "light"
     },
     "output_type": "display_data"
    }
   ],
   "source": [
    "import numpy as np\n",
    "import matplotlib.pyplot as plt\n",
    "\n",
    "%matplotlib inline\n",
    "\n",
    "\n",
    "def gen_uncertain_data():\n",
    "    x = np.linspace(0, 30, 100)\n",
    "    y = np.sin(x/6*np.pi) + np.random.normal(0, 0.02, size=x.shape)\n",
    "    error = np.random.normal(0.1, 0.02, size=y.shape)\n",
    "    return x, y, error\n",
    "\n",
    "\n",
    "x, y, error = gen_uncertain_data()\n",
    "plt.plot(x, y, color='blue')\n",
    "plt.fill_between(x, y-error,y+error, color='green')\n",
    "plt.ylabel('y')\n",
    "_ = plt.xlabel('x')"
   ]
  },
  {
   "cell_type": "markdown",
   "metadata": {
    "id": "3Ecuwtdk_-4l"
   },
   "source": [
    "**(0.5 балла) Задача 9.** Bизуализируйте соотношение различных издательств, используя [pie plot](https://pandas.pydata.org/pandas-docs/stable/user_guide/visualization.html#visualization-pie).\n"
   ]
  },
  {
   "cell_type": "code",
   "execution_count": 103,
   "metadata": {
    "collapsed": true,
    "id": "YOs_VgVZ_-4l"
   },
   "outputs": [
    {
     "data": {
      "image/png": "[encoded data removed]",
      "text/plain": [
       "<Figure size 576x576 with 1 Axes>"
      ]
     },
     "metadata": {},
     "output_type": "display_data"
    }
   ],
   "source": [
    "series = pd.Series(df.groupby('publication').count()['id'])\n",
    "series.plot.pie(figsize=(8, 8));\n",
    "y = plt.ylabel('')\n",
    "x = plt.xlabel('ratio of different publishers')"
   ]
  },
  {
   "cell_type": "markdown",
   "metadata": {
    "id": "3D-penKP_-4l"
   },
   "source": [
    "**(0.5 балла) Задача 10.** Постройте распределение количества публикаций каждого издания по каждому году, используя [bar plot](https://pandas.pydata.org/pandas-docs/stable/user_guide/visualization.html#visualization-barplot). В какой год было больше всего публикаций?"
   ]
  },
  {
   "cell_type": "code",
   "execution_count": 51,
   "metadata": {
    "collapsed": true,
    "id": "TeLIgByt_-4m"
   },
   "outputs": [
    {
     "data": {
      "image/png": "[encoded data removed]",
      "text/plain": [
       "<Figure size 432x288 with 1 Axes>"
      ]
     },
     "metadata": {},
     "output_type": "display_data"
    }
   ],
   "source": [
    "\n",
    "df.pivot_table(values='id', index='year', columns='publication', aggfunc='count').plot.bar()\n",
    "x = plt.xlabel('year')\n",
    "y = plt.ylabel('amount')\n"
   ]
  },
  {
   "cell_type": "markdown",
   "metadata": {},
   "source": [
    ">Судя по графику, в 2016 году было больше всего публикаций."
   ]
  },
  {
   "cell_type": "markdown",
   "metadata": {
    "id": "dVBU4WD1_-4m"
   },
   "source": [
    "**(0.5 балла) Задача 11.** Изобразите распределение длин заголовков (*title*) статей для каждого издательства. Для этого можно воспользоваться, например, функцией [sns.violinplot](https://seaborn.pydata.org/generated/seaborn.violinplot.html)."
   ]
  },
  {
   "cell_type": "code",
   "execution_count": 124,
   "metadata": {
    "collapsed": true,
    "id": "Wd8V2uZF_-4m"
   },
   "outputs": [
    {
     "name": "stderr",
     "output_type": "stream",
     "text": [
      "C:\\Users\\Katya\\anaconda3\\lib\\site-packages\\seaborn\\_decorators.py:36: FutureWarning: Pass the following variable as a keyword arg: x. From version 0.12, the only valid positional argument will be `data`, and passing other arguments without an explicit keyword will result in an error or misinterpretation.\n",
      "  warnings.warn(\n"
     ]
    },
    {
     "data": {
      "image/png": "[encoded data removed]",
      "text/plain": [
       "<Figure size 432x288 with 1 Axes>"
      ]
     },
     "metadata": {},
     "output_type": "display_data"
    }
   ],
   "source": [
    "import seaborn as sns\n",
    "\n",
    "x=df[\"title\"].str.len()\n",
    "sns.set_theme(style=\"whitegrid\")\n",
    "ax = sns.violinplot(x, hue=None)\n",
    "y = plt.ylabel('publishing')\n",
    "x = plt.xlabel('title_lenght')\n",
    "\n"
   ]
  }
 ],
 "metadata": {
  "colab": {
   "name": "Pandas.ipynb",
   "provenance": []
  },
  "kernelspec": {
   "display_name": "Python 3 (ipykernel)",
   "language": "python",
   "name": "python3"
  },
  "language_info": {
   "codemirror_mode": {
    "name": "ipython",
    "version": 3
   },
   "file_extension": ".py",
   "mimetype": "text/x-python",
   "name": "python",
   "nbconvert_exporter": "python",
   "pygments_lexer": "ipython3",
   "version": "3.9.7"
  }
 },
 "nbformat": 4,
 "nbformat_minor": 1
}
