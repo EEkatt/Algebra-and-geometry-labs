{
 "cells": [
  {
   "cell_type": "markdown",
   "metadata": {
    "nbgrader": {
     "grade": false,
     "grade_id": "cell-8c1f707ec75db50b",
     "locked": true,
     "schema_version": 2,
     "solution": false
    }
   },
   "source": [
    "Не забываем загрузить библиотеки:"
   ]
  },
  {
   "cell_type": "code",
   "execution_count": 12,
   "metadata": {
    "jupyter": {
     "outputs_hidden": true
    },
    "nbgrader": {
     "grade": false,
     "grade_id": "cell-853b1d54d0588609",
     "locked": true,
     "schema_version": 2,
     "solution": false
    }
   },
   "outputs": [],
   "source": [
    "# Библиотека для работы с матрицами\n",
    "import numpy as np \n",
    "\n",
    "# Алгоритмы линейной алгебры\n",
    "import scipy.linalg as sla\n",
    "\n",
    "# Библиотека для работы с разреженными матрицами\n",
    "import scipy.sparse as sps\n",
    "\n",
    "# Алгоритмы линейной алгебры для разреженных матриц\n",
    "import scipy.sparse.linalg as spla\n",
    "\n",
    "# Графическая библиотека\n",
    "import matplotlib.pyplot as plt\n",
    "\n",
    "# Позволяет отрисовывать графики и изображения прямо в ноутбуке, а не в отдельном окне. Жизненно важная вещь!\n",
    "%matplotlib inline"
   ]
  },
  {
   "cell_type": "markdown",
   "metadata": {},
   "source": [
    "# Теория\n",
    "\n",
    "Информация в этой клетке с википедии, при желании — переходите по ссылкам и читайте полную версию.\n",
    "\n",
    "## [Нормы](https://ru.wikipedia.org/wiki/Норма_(математика))\n",
    "Вы знаете, что в векторном пространстве над полем вещественных или комплексных чисел есть понятие длины вектора — квадратный корень из скалярного произведения вектора на самого себя.  \n",
    "Норма обобщает понятие длины вектора. Это функционал $||\\cdot||: V \\to \\mathbb{R}_+$, обладающий следующими свойствами:\n",
    "\n",
    "1. $||x|| = 0 \\Rightarrow x = 0$;\n",
    "2. $\\forall x,y \\in V,\\ ||x+y|| \\le ||x|| + ||y||$ (неравенство треугольника);\n",
    "3. $\\forall \\alpha \\in \\mathbb{R} (\\mathbb{C})\\ \\forall x \\in V,\\ ||\\alpha x|| = |\\alpha|\\cdot ||x||$.\n",
    "\n",
    "У некоторых норм есть общепринятые названия. Когда говорят об $l_p$-норме, имеют ввиду отображение\n",
    "$$\n",
    "||\\cdot||_p: V \\to \\mathbb{R}_+,\\quad ||(x_1, \\ldots, x_n)||_p = (|x_1|^p + \\ldots + |x_n|^p)^{\\frac{1}{p}}\n",
    "$$\n",
    "\n",
    "В частности, $l_2$-норма — это длина вектора, $l_1$-норма — это сумма модулей координат, норма $l_\\infty$ равна максимуму из модулей координат.\n",
    "\n",
    "Норма матрицы — это просто её норма как вектора пространства $K^{m \\times n}$ (где $K \\in \\{\\mathbb{R}, \\mathbb{C}\\}$).  \n",
    "Есть ещё операторные нормы, которые определяются через векторную норму:\n",
    "$$\n",
    "||\\varphi|| = \\sup\\limits_{||x|| = 1} ||\\varphi(x)||.\n",
    "$$\n",
    "Нас тут интересует только то, что используя любую норму, заданную на векторах, можно определить соответствующую операторную норму, которая в свою очередь определяет матричную норму.  \n",
    "Таким образом определённая матричная норма (через норму вектора) называется согласованной с соответствующей векторной нормой.\n",
    "\n",
    "## [$LU$-разложение](https://ru.wikipedia.org/wiki/LU-разложение#Вывод_формулы)\n",
    "$LU$-разложение матрицы $A$ — это представление этой матрицы в виде произведения $A = LU$ нижнетреугольной матрицы $L$ и верхнетреугольной матрицы $U$.  \n",
    "Это разложение важно при решении линейных систем. Если вы знаете такое разложение матрицы $A$, то решение СЛУ\n",
    "$$Ax = b \\Leftrightarrow LUx = b$$\n",
    "сводится к решению двух систем\n",
    "$$Ly = b \\text{ и } Ux = y$$\n",
    "c треугольными матрицами (а значит решаемыми одним прямым или обратным проходом).\n",
    "\n",
    "## [$QR$-разложение](https://ru.wikipedia.org/wiki/QR-разложение)\n",
    "$QR$-разложение матрицы $A$ — это представление этой матрицы в виде произведения $A = QR$ ортогональной (или унитарной) матрицы $Q$ и верхнетреугольной матрицы $R$.  \n",
    "\n",
    "В силу того, что $Q^*Q = I$, при известном $QR$-разложении матрицы $A$ решение СЛУ \n",
    "$$Ax = b \\Leftrightarrow QRx = b$$\n",
    "сводится к решению системы\n",
    "$$Rx = Q^* b$$\n",
    "с треугольной матрицей."
   ]
  },
  {
   "cell_type": "markdown",
   "metadata": {},
   "source": [
    "**Задание 0 (1 балл) (теоретическое)** Найдите (по определению или в википедии), чему равны матричные нормы $l_1$ и $l_\\infty$ и докажите полученные формулы."
   ]
  },
  {
   "cell_type": "markdown",
   "metadata": {},
   "source": []
  },
  {
   "cell_type": "markdown",
   "metadata": {},
   "source": [
    "Векторной $l_2$-норме соответствует так называемая спектральная норма матрицы, для матрицы $A$ равная корню из максимального собственного числа матрицы $A^*A$ (где $A^*$ это сопряжённая матрица):\n",
    "$$\n",
    "||A||_2 = \\sup\\limits_{||x||_2 = 1} ||Ax||_2 = \\sup\\limits_{(x,x)=1} \\sqrt{(Ax,Ax)} = \\sqrt{\\lambda_{max}(A^*A)}\n",
    "$$"
   ]
  },
  {
   "cell_type": "markdown",
   "metadata": {},
   "source": [
    "\n",
    "\n"
   ]
  },
  {
   "cell_type": "markdown",
   "metadata": {
    "nbgrader": {
     "grade": false,
     "grade_id": "cell-e609ec7491bb3cb0",
     "locked": true,
     "schema_version": 2,
     "solution": false
    }
   },
   "source": [
    "## Вычислительные особенности\n",
    "\n",
    "С точки зрения математики матричные разложения являются точными: произведение сомножителей всегда равняется исходной матрице $A$. К сожалению, на практике этому часто мешает вычислительная погрешность. \n",
    "\n",
    "Для $LU$ разложения $l_2$-норма ошибки ошибки $||\\delta A|| = ||A - LU||$ удовлетворяет следующей оценке:\n",
    "\n",
    "$$||\\delta A|| \\leqslant ||L|| \\cdot ||U|| \\cdot O(\\varepsilon_{machine})$$\n",
    "\n",
    "А нормы $L$ и $U$ могут быть совсем нехорошими."
   ]
  },
  {
   "cell_type": "markdown",
   "metadata": {
    "nbgrader": {
     "grade": false,
     "grade_id": "cell-1fd63ca1f729d028",
     "locked": true,
     "schema_version": 2,
     "solution": false
    }
   },
   "source": [
    "**Задание 1 (1 балл)** Рассмотрим следующее LU-разложение:\n",
    "\n",
    "$$\n",
    "\\begin{pmatrix}\n",
    "10^{-20} & 1\\\\\n",
    "1 & 1\n",
    "\\end{pmatrix} = \\begin{pmatrix}\n",
    "1 & 0\\\\\n",
    "10^{20} & 1\n",
    "\\end{pmatrix}\\cdot\\begin{pmatrix}\n",
    "10^{-20} & 1\\\\\n",
    "0 & 1 - 10^{20}\n",
    "\\end{pmatrix}\n",
    "$$\n",
    "\n",
    "Перемножьте полученные матрицы $L$ и $U$. А теперь перемножьте такие же матрицы, только после всех единиц поставьте десятичные точки. Изменился ли ответ? Как вам кажется, почему?"
   ]
  },
  {
   "cell_type": "code",
   "execution_count": 13,
   "metadata": {
    "nbgrader": {
     "grade": true,
     "grade_id": "cell-0f110e302b60d2cb",
     "locked": false,
     "points": 1,
     "schema_version": 2,
     "solution": true
    }
   },
   "outputs": [
    {
     "name": "stdout",
     "output_type": "stream",
     "text": [
      "[[1e-20 1]\n",
      " [1.0 1]]\n",
      "\n",
      "\n",
      "[[1e-20 1.0]\n",
      " [1.0 0.0]]\n"
     ]
    }
   ],
   "source": [
    "import numpy as np \n",
    "\n",
    "\n",
    "L1 = np.array([[1 , 0], [10**(20), 1]])\n",
    "U1 = np.array([[10**(-20) , 1], [0, 1 - 10**20]])\n",
    "print(np.dot(L1, U1))\n",
    "\n",
    "print('\\n')\n",
    "\n",
    "L2 = np.array([[1. , 0], [10**20, 1.]])\n",
    "U2 = np.array([[10**(-20) , 1.], [0, 1. - 10**20]])\n",
    "print(np.dot(L2, U2))\n"
   ]
  },
  {
   "cell_type": "markdown",
   "metadata": {},
   "source": [
    "> В первом случае только один элемент содержит десятичную точку, во втором случае все элементы содержат десятичную точку, кроме числа $10^{-20}$.\n",
    "\n",
    "> Мне кажется это связано стем, что по правилам языка при перемноженнии $int$ на $int$ мы получаем $int$, при перемножении $int$ на $float$ получаем  $float$ и при перемножении $float$ на $float$ получим $float$. \n",
    "\n",
    "> Таким образом при перемножении во втором случае мы получаем массив, значенния которого все равны $float$.\n",
    "\n",
    "> При перемножении в первом случае значение $float$ будут иметь только те значения, которые получены при перемножении $10^{-20}$ на число."
   ]
  },
  {
   "cell_type": "markdown",
   "metadata": {
    "nbgrader": {
     "grade": false,
     "grade_id": "cell-807ed398d5bc3341",
     "locked": true,
     "schema_version": 2,
     "solution": false
    }
   },
   "source": [
    "Отметим, что в реальных вычислениях матричные элементы почти наверняка с самого начала будут числами с плавающей точкой (а не целыми).\n",
    "\n",
    "Теперь проверьте, что будет, если вычислить QR-разложение исходной матрицы и перемножить матрицы $Q$ и $R$."
   ]
  },
  {
   "cell_type": "code",
   "execution_count": 14,
   "metadata": {
    "jupyter": {
     "outputs_hidden": true
    }
   },
   "outputs": [
    {
     "name": "stdout",
     "output_type": "stream",
     "text": [
      "[[ 0. -1.]\n",
      " [-1.  0.]] \n",
      "\n",
      "[[-1. -1.]\n",
      " [ 0. -1.]] \n",
      "\n",
      "[[0. 1.]\n",
      " [1. 1.]] \n",
      "\n",
      "[[ 1.e-20 -1.e+00]\n",
      " [ 1.e+00  1.e-20]] \n",
      "\n",
      "[[ 1.  1.]\n",
      " [ 0. -1.]] \n",
      "\n",
      "[[1.e-20 1.e+00]\n",
      " [1.e+00 1.e+00]]\n"
     ]
    }
   ],
   "source": [
    "import numpy as np\n",
    "\n",
    "A = np.array([[10**(-20), 1e+0], [1e+0, 1e+0]])\n",
    "Q, R = np.linalg.qr(A)\n",
    "\n",
    "print(Q, '\\n')\n",
    "print(R, '\\n')\n",
    "print (np.dot(Q, R), '\\n')\n",
    "\n",
    "def givens_rotation(A):\n",
    "    (r, c) = np.shape(A)\n",
    "    Q = np.identity(r)\n",
    "    R = np.copy(A)\n",
    "    (rows, cols) = np.tril_indices(r, -1, c)\n",
    "    for (row, col) in zip(rows, cols):\n",
    "        if R[row, col] != 0:  # Q = 1, S = 0, R, Q без изменений\n",
    "            r_ = np.hypot(R[col, col], R[row, col])  # d\n",
    "            c = R[col, col]/r_\n",
    "            s = -R[row, col]/r_\n",
    "            G = np.identity(r)\n",
    "            G[[col, row], [col, row]] = c\n",
    "            G[row, col] = s\n",
    "            G[col, row] = -s\n",
    "            R = np.dot(G, R)  # R=G(n-1,n)*...*G(2n)*...*G(23,1n)*...*G(12)*A\n",
    "            Q = np.dot(Q, G.T)  # Q=G(n-1,n).T*...*G(2n).T*...*G(23,1n).T*...*G(12).T\n",
    "    return (Q, R)\n",
    "\n",
    "\n",
    "\n",
    "(Q, R) = givens_rotation(A)\n",
    "print(Q, '\\n')\n",
    "print(R, '\\n')\n",
    "print (np.dot(Q,R))"
   ]
  },
  {
   "cell_type": "markdown",
   "metadata": {},
   "source": [
    "> При использовании функции из библиотеки $numpy$, не хватает точности, при округлении ответ верный. Ответ выводится в формате $float$\n",
    "\n",
    "> ФУнкцию, для более точного вычисления взяла с сайта (https://russianblogs.com/article/13201929500/), вывод более точный, формат $float$."
   ]
  },
  {
   "cell_type": "markdown",
   "metadata": {
    "nbgrader": {
     "grade": false,
     "grade_id": "cell-8f160da0693e7b65",
     "locked": true,
     "schema_version": 2,
     "solution": false
    }
   },
   "source": [
    "**Выход: LU-разложение с выбором главного элемента (по столбцу)**\n",
    "\n",
    "Каждый раз ищем максимум в столбце и переставляем соответствующую строку наверх.\n",
    "\n",
    "$$\n",
    "\\begin{pmatrix}\n",
    "b_{11} & \\dots & b_{1i} & b_{1,i+1} & \\dots & b_{1n}\\\\\n",
    " & \\ddots & \\vdots & \\vdots & & \\vdots\\\\\n",
    " & & \\color{blue}{b_{ii}} & \\color{blue}{b_{i,i+1}} & \\dots & \\color{blue}{b_{in}} \\\\\n",
    " & & b_{i+1,i} & b_{i+1,i+1} & \\dots & b_{i+1,n}\\\\\n",
    " & & \\vdots & \\vdots &  & \\vdots \\\\\n",
    " & & \\color{green}{b_{ji}} & \\color{green}{b_{j,i+1}} & \\dots & \\color{green}{b_{jn}} \\\\\n",
    " & & \\vdots & \\vdots & & \\vdots\\\\\n",
    "\\end{pmatrix}\\longrightarrow\n",
    "\\begin{pmatrix}\n",
    "b_{11} & \\dots & b_{1i} & b_{1,i+1} & \\dots & b_{1n}\\\\\n",
    " & \\ddots & \\vdots & \\vdots & & \\vdots\\\\\n",
    " & & \\color{green}{b_{ji}} & \\color{green}{b_{j,i+1}} & \\dots & \\color{green}{b_{jn}} \\\\\n",
    " & & b_{i+1,i} & b_{i+1,i+1} & \\dots & b_{i+1,n}\\\\\n",
    " & & \\vdots & \\vdots &  & \\vdots \\\\\n",
    " & & \\color{blue}{b_{ii}} & \\color{blue}{b_{i,i+1}} & \\dots & \\color{blue}{b_{in}} \\\\\n",
    " & & \\vdots & \\vdots & & \\vdots\\\\\n",
    "\\end{pmatrix}\\longrightarrow\n",
    "$$\n",
    "$$\n",
    "\\longrightarrow\\begin{pmatrix}\n",
    "b_{11} & \\dots & b_{1i} & b_{1,i+1} & \\dots & b_{1n}\\\\\n",
    " & \\ddots & \\vdots & \\vdots & & \\vdots\\\\\n",
    " & & \\color{green}{b_{ji}} & \\color{green}{b_{j,i+1}} & \\dots & \\color{green}{b_{jn}} \\\\\n",
    " & & 0 & b'_{i+1,i+1} & \\dots & b'_{i+1,n}\\\\\n",
    " & & \\vdots & \\vdots &  & \\vdots \\\\\n",
    " & & 0 & b'_{i,i+1} & \\dots & b'_{in} \\\\\n",
    " & & \\vdots & \\vdots & & \\vdots\n",
    "\\end{pmatrix}\n",
    "$$\n",
    "\n",
    "Наибольший, а не первый ненулевой элемент столбца берётся потому, что чем больше число - тем меньшие погрешности потенциально вносит деление на него."
   ]
  },
  {
   "cell_type": "markdown",
   "metadata": {
    "nbgrader": {
     "grade": false,
     "grade_id": "cell-b221c95bc45a770f",
     "locked": true,
     "schema_version": 2,
     "solution": false
    }
   },
   "source": [
    "Что при этом происходит? Перестановка строк матрицы равносильна умножению её слева на матрицу соответствующей перестановки. Таким образом, мы получаем равенство\n",
    "\n",
    "$$L_nP_nL_{n-1}P_{n-1}\\ldots L_2P_2L_1P_1 A = U\\qquad\\qquad(1)$$\n",
    "\n",
    "где $L_1,\\ldots,L_n$ - некоторые нижнетреугольные матрицы.\n",
    "\n",
    "**Вопрос:** Ну, и где здесь матрица $L$?!\n",
    "\n",
    "**Ответ:** Введём новые матрицы\n",
    "\n",
    "\\begin{align*}\n",
    "L'_n &= L_n\\\\\n",
    "L'_{n-1} &= P_nL_nP_{n-1}\\\\\n",
    "L'_{n-2} &= P_nP_{n-1}L_{n-1}P_n^{-1}P_{n-1}^{-1}\\\\\n",
    "&\\ldots\\\\\n",
    "L'_1 &= P_nP_{n-1}\\ldots P_2L_1P_2^{-1}\\ldots P_{n-1}^{-1}P_n^{-1}\n",
    "\\end{align*}\n",
    "\n",
    "**Упражнение.** Матрицы $L'_i$ тоже нижнетреугольные!\n",
    "\n",
    "Тогда левая часть (1) перепишется в виде\n",
    "\n",
    "$$\\underbrace{L'_nL'_{n-1}\\ldots L'_1}_{:=L^{-1}}\\underbrace{P_nP_{n-1}\\ldots P_1}_{:=P^{-1}}\\cdot A$$"
   ]
  },
  {
   "cell_type": "markdown",
   "metadata": {
    "nbgrader": {
     "grade": false,
     "grade_id": "cell-a234642d4586c306",
     "locked": true,
     "schema_version": 2,
     "solution": false
    }
   },
   "source": [
    "**Итог:** разложение вида\n",
    "$$A = PLU$$\n",
    "где $P$ - матрица перестановки.\n",
    "\n",
    "Функция `scipy.linalg.lu` в Питоне находит именно такое разложение!\n",
    "\n",
    "Все элементы $L$ не превосходят $1$, так что $||L|| \\leqslant 1$. При этом\n",
    "$$||\\Delta A|| \\leqslant ||A||\\cdot O(\\rho \\varepsilon_{machine}),$$\n",
    "где\n",
    "$$\\rho = \\frac{\\max_{i,j}|u_{ij}|}{\\max_{i,j}|a_{ij}|}$$\n",
    "Это число называется *фактором роста матрицы*.\n",
    "\n",
    "Но что, если это отношение велико?"
   ]
  },
  {
   "cell_type": "markdown",
   "metadata": {
    "nbgrader": {
     "grade": false,
     "grade_id": "cell-03ca09cdd63fe083",
     "locked": true,
     "schema_version": 2,
     "solution": false
    }
   },
   "source": [
    "**Задание 2 (1 балл)** Сгенерируйте матрицу $500\\times500$, имеющую вид\n",
    "\n",
    "$$\n",
    "\\begin{pmatrix}\n",
    "1 & 0 & 0 & \\cdots & 0 & 0 & 1\\\\\n",
    "-1 & 1 & 0 &  &  & 0 & 1\\\\\n",
    "-1 & -1 & 1 & 0  &  & 0 & 1\\\\\n",
    "\\vdots & & \\ddots & \\ddots  & \\ddots & \\vdots & \\vdots \\\\\n",
    "-1 & -1 & -1 & \\ddots & 1 & 0 & 1\\\\\n",
    "-1 & -1 & -1 &  & -1 & 1 & 1\\\\\n",
    "-1 & -1 & -1 & \\cdots & -1 & -1 & 1\n",
    "\\end{pmatrix}\n",
    "$$\n",
    "\n",
    "Например, сгенерировать сначала нулевую матрицу нужного размера, а потом заполнить её клетки правильными числами.\n",
    "\n",
    "Найдите её PLU-разложение и QR-разложение. Убедитесь, что $P = E$. Вычислите $||A - LU||_2$ и $||A - QR||_2$. Чему равен фактор роста матрицы $A$? Сделайте вывод об устойчивости (или не устойчивости) нахождения PLU-разложения."
   ]
  },
  {
   "cell_type": "code",
   "execution_count": 15,
   "metadata": {
    "jupyter": {
     "outputs_hidden": true
    },
    "nbgrader": {
     "grade": true,
     "grade_id": "cell-71de5e58b22a5fe9",
     "locked": false,
     "points": 1,
     "schema_version": 2,
     "solution": true
    }
   },
   "outputs": [
    {
     "name": "stdout",
     "output_type": "stream",
     "text": [
      "QR разложение:\n",
      "Матрица Q\n",
      "[[-4.47213595e-02  4.45332635e-01  1.94543248e-01 ...  9.21970076e-17\n",
      "   2.21179130e-16  8.66025404e-01]\n",
      " [ 4.47213595e-02 -8.93353395e-01  9.72716239e-02 ...  4.48732096e-17\n",
      "   1.11154928e-16  4.33012702e-01]\n",
      " [ 4.47213595e-02  2.68812456e-03 -9.74873473e-01 ...  2.22006615e-17\n",
      "   5.50837783e-17  2.16506351e-01]\n",
      " ...\n",
      " [ 4.47213595e-02  2.68812456e-03  2.15723360e-03 ... -8.16496581e-01\n",
      "  -3.17538245e-17  2.70616862e-16]\n",
      " [ 4.47213595e-02  2.68812456e-03  2.15723360e-03 ...  4.08248290e-01\n",
      "  -7.07106781e-01  3.46944695e-17]\n",
      " [ 4.47213595e-02  2.68812456e-03  2.15723360e-03 ...  4.08248290e-01\n",
      "   7.07106781e-01  1.45716772e-16]] \n",
      "\n",
      "Матрица R\n",
      "[[-2.23606798e+01 -2.22265157e+01 -2.21817943e+01 ... -4.47213595e-02\n",
      "   0.00000000e+00  2.22712371e+01]\n",
      " [ 0.00000000e+00 -2.23203943e+00 -1.33330978e+00 ... -2.68812456e-03\n",
      "   0.00000000e+00  8.90665271e-01]\n",
      " [ 0.00000000e+00  0.00000000e+00 -2.04701857e+00 ... -2.15723360e-03\n",
      "   0.00000000e+00  3.89086496e-01]\n",
      " ...\n",
      " [ 0.00000000e+00  0.00000000e+00  0.00000000e+00 ... -1.63299316e+00\n",
      "   0.00000000e+00  2.22044605e-16]\n",
      " [ 0.00000000e+00  0.00000000e+00  0.00000000e+00 ...  0.00000000e+00\n",
      "  -1.41421356e+00  2.22044605e-16]\n",
      " [ 0.00000000e+00  0.00000000e+00  0.00000000e+00 ...  0.00000000e+00\n",
      "   0.00000000e+00  1.73205081e+00]] \n",
      "\n",
      "PLU разложение\n",
      "Матрица P\n",
      "[[1. 0. 0. ... 0. 0. 0.]\n",
      " [0. 1. 0. ... 0. 0. 0.]\n",
      " [0. 0. 1. ... 0. 0. 0.]\n",
      " ...\n",
      " [0. 0. 0. ... 1. 0. 0.]\n",
      " [0. 0. 0. ... 0. 1. 0.]\n",
      " [0. 0. 0. ... 0. 0. 1.]] \n",
      "\n",
      "Матрица L\n",
      "[[ 1.  0.  0. ...  0.  0.  0.]\n",
      " [-1.  1.  0. ...  0.  0.  0.]\n",
      " [-1. -1.  1. ...  0.  0.  0.]\n",
      " ...\n",
      " [-1. -1. -1. ...  1.  0.  0.]\n",
      " [-1. -1. -1. ... -1.  1.  0.]\n",
      " [-1. -1. -1. ... -1. -1.  1.]] \n",
      "\n",
      "Матрица U\n",
      "[[1.00000000e+000 0.00000000e+000 0.00000000e+000 ... 0.00000000e+000\n",
      "  0.00000000e+000 1.00000000e+000]\n",
      " [0.00000000e+000 1.00000000e+000 0.00000000e+000 ... 0.00000000e+000\n",
      "  0.00000000e+000 2.00000000e+000]\n",
      " [0.00000000e+000 0.00000000e+000 1.00000000e+000 ... 0.00000000e+000\n",
      "  0.00000000e+000 4.00000000e+000]\n",
      " ...\n",
      " [0.00000000e+000 0.00000000e+000 0.00000000e+000 ... 1.00000000e+000\n",
      "  0.00000000e+000 4.09173826e+149]\n",
      " [0.00000000e+000 0.00000000e+000 0.00000000e+000 ... 0.00000000e+000\n",
      "  1.00000000e+000 8.18347652e+149]\n",
      " [0.00000000e+000 0.00000000e+000 0.00000000e+000 ... 0.00000000e+000\n",
      "  0.00000000e+000 1.63669530e+150]] \n",
      "\n",
      "||𝐴−𝐿𝑈||2 =  3.102517070422723e+116\n",
      "||𝐴−𝑄𝑅||2 =  1.0872376138066345e-12\n"
     ]
    }
   ],
   "source": [
    "from scipy.linalg import lu\n",
    "E = np.zeros((500, 500))\n",
    "A = np.zeros((500, 500))\n",
    "for i in range (500):\n",
    "    for j in range (500):\n",
    "        if i == j:\n",
    "            A[i][j] = 1\n",
    "            E[i][j] = 1\n",
    "        elif i > j:\n",
    "            A[i][j] = -1\n",
    "    A[i][499] = 1\n",
    "\n",
    "Q, R = np.linalg.qr(A)\n",
    "print ('QR разложение:')\n",
    "print ('Матрица Q')\n",
    "print(Q, '\\n')\n",
    "print ('Матрица R')\n",
    "print(R, '\\n')\n",
    "\n",
    "P, L, U = lu(A)\n",
    "print ('PLU разложение')\n",
    "print ('Матрица P')\n",
    "print(P, '\\n')\n",
    "print ('Матрица L')\n",
    "print(L, '\\n')\n",
    "print ('Матрица U')\n",
    "print(U, '\\n')\n",
    "\n",
    "if P.all() == E.all():\n",
    "    arr_norm1 = np.linalg.norm(A - np.dot(L, U),ord=2)\n",
    "    arr_norm2 = np.linalg.norm(A - np.dot(Q, R),ord=2)\n",
    "    print('||𝐴−𝐿𝑈||2 = ' , arr_norm1)\n",
    "    print('||𝐴−𝑄𝑅||2 = ', arr_norm2)"
   ]
  },
  {
   "cell_type": "markdown",
   "metadata": {
    "nbgrader": {
     "grade": false,
     "grade_id": "cell-15de45063c3828be",
     "locked": true,
     "schema_version": 2,
     "solution": false
    }
   },
   "source": [
    "К счастью, на практике так редко бывает (чёрт его знает почему). Тем не менее, QR-разложение всё-таки лучше. Теоретическая оценка для ошибки QR-разложения имеет вид\n",
    "\n",
    "$$||A - QR||_2 \\leqslant ||A||_2\\cdot O(\\varepsilon_{machine})$$"
   ]
  },
  {
   "cell_type": "markdown",
   "metadata": {
    "nbgrader": {
     "grade": false,
     "grade_id": "cell-99d91b250c3029a1",
     "locked": true,
     "schema_version": 2,
     "solution": false
    }
   },
   "source": [
    "**Задание 3 (1 балл)** Рассмотрим *матрицу Паскаля* $S_n = \\left(C_{i + j}^i\\right)$ ($i,j = 0,\\ldots,n-1$).\n",
    "\n",
    "Каково её LU-разложение? Выведите формулы для матриц L и U и приведите краткое обоснование прямо в ноутбуке. Не пользуйтесь функцией `scipy.linalg.lu`, чтобы его \"угадать\": матрица P будет отлична от единичной, и вы получите не то, что хотели.\n",
    "\n",
    "Каков её определитель? Обязательно обоснуйте ответ."
   ]
  },
  {
   "cell_type": "markdown",
   "metadata": {
    "nbgrader": {
     "grade": false,
     "grade_id": "cell-3a0e90616c199cdd",
     "locked": true,
     "schema_version": 2,
     "solution": false
    }
   },
   "source": [
    "Напишите функцию `my_pascal(n)`, генерирующую матрицу Паскаля размера $n\\times n$."
   ]
  },
  {
   "cell_type": "code",
   "execution_count": 16,
   "metadata": {
    "jupyter": {
     "outputs_hidden": true
    }
   },
   "outputs": [],
   "source": [
    "def my_pascal(n):\n",
    "    A = np.zeros((n, n))\n",
    "    for i in range (n):\n",
    "        for j in range (n):\n",
    "            if i == j:\n",
    "                A[i][j] = 1\n",
    "            elif i == 0:\n",
    "                A[i][j] = 0\n",
    "            elif j == 0:\n",
    "                A[i][j] = 1\n",
    "            elif i > j:\n",
    "                A[i][j] = A[i-1][j] + A[i-1][j-1]\n",
    "    return A\n",
    "\n",
    "def lu_decom(matrix):\n",
    "    array = np.array(matrix)\n",
    "    size = np.shape(matrix)[0]\n",
    "    L = np.zeros([size, size])\n",
    "    for k in range(size - 1):\n",
    "        vector = array[:, k]\n",
    "        vector[k + 1:] = vector[k + 1:] / vector[k]\n",
    "        vector[0:k + 1] = np.zeros(k + 1)\n",
    "        L[:, k] = vector\n",
    "        L[k, k] = 1.0\n",
    "        for i in range(k + 1, size):\n",
    "            matrix[i, :] = matrix[i, :] - vector[i] * matrix[k, :]\n",
    "        array = np.array(matrix)\n",
    "    L[size - 1, size - 1] = 1.0\n",
    "    U = array\n",
    "    return (L, U)\n",
    "\n",
    "    "
   ]
  },
  {
   "cell_type": "markdown",
   "metadata": {},
   "source": [
    "> LU разложение подсмотрела на сайте (https://russianblogs.com/article/7153814717/),  немного изменила код "
   ]
  },
  {
   "cell_type": "markdown",
   "metadata": {
    "nbgrader": {
     "grade": false,
     "grade_id": "cell-56cd8e8126f36e08",
     "locked": true,
     "schema_version": 2,
     "solution": false
    }
   },
   "source": [
    "Найдите норму разности $||A - PLU||_2$. Не такая уж и большая, правда?"
   ]
  },
  {
   "cell_type": "code",
   "execution_count": 17,
   "metadata": {
    "jupyter": {
     "outputs_hidden": true
    }
   },
   "outputs": [
    {
     "name": "stdout",
     "output_type": "stream",
     "text": [
      "200037352.54481462\n"
     ]
    }
   ],
   "source": [
    "A = my_pascal(30)\n",
    "L, U = lu_decom(A)\n",
    "arr_norm1 = np.linalg.norm(A - np.dot(L, U),ord=2)\n",
    "print(arr_norm1)\n",
    "# Find ||A - PLU||_2 here"
   ]
  },
  {
   "cell_type": "markdown",
   "metadata": {
    "nbgrader": {
     "grade": false,
     "grade_id": "cell-0aeaf68589e4e93e",
     "locked": true,
     "schema_version": 2,
     "solution": false
    }
   },
   "source": [
    "Теперь попросим компьютер вычислить определитель матрицы Паскаля $30\\times30$ и решить простенькую систему уравнений:"
   ]
  },
  {
   "cell_type": "code",
   "execution_count": 18,
   "metadata": {
    "jupyter": {
     "outputs_hidden": true
    }
   },
   "outputs": [
    {
     "name": "stdout",
     "output_type": "stream",
     "text": [
      "1.0\n",
      "0.0\n"
     ]
    }
   ],
   "source": [
    "print(sla.det(A))\n",
    "\n",
    "# Try to solve a linear system\n",
    "x = np.ones(30)\n",
    "b = A.dot(x)\n",
    "x1 = sla.solve(A, b)\n",
    "print(sla.norm(x1 - x))"
   ]
  },
  {
   "cell_type": "markdown",
   "metadata": {
    "nbgrader": {
     "grade": false,
     "grade_id": "cell-fb043ec5385756a6",
     "locked": true,
     "schema_version": 2,
     "solution": false
    }
   },
   "source": [
    "Так себе ошибка. Теперь попробуем сделать это с помощью QR-разложения. Станет ли лучше?"
   ]
  },
  {
   "cell_type": "code",
   "execution_count": 19,
   "metadata": {
    "jupyter": {
     "outputs_hidden": true
    }
   },
   "outputs": [
    {
     "name": "stdout",
     "output_type": "stream",
     "text": [
      "0.0\n"
     ]
    }
   ],
   "source": [
    "Q, R = sla.qr(A)\n",
    "x2 = sla.solve_triangular(R, Q.T.dot(b))\n",
    "print (sla.norm(x2 - x))"
   ]
  },
  {
   "cell_type": "markdown",
   "metadata": {
    "nbgrader": {
     "grade": false,
     "grade_id": "cell-b6bc307685f8bfc1",
     "locked": true,
     "schema_version": 2,
     "solution": false
    }
   },
   "source": [
    "Объясните полученные неприятные результаты."
   ]
  },
  {
   "cell_type": "markdown",
   "metadata": {
    "nbgrader": {
     "grade": true,
     "grade_id": "cell-d92383a537ebe872",
     "locked": false,
     "points": 0,
     "schema_version": 2,
     "solution": true
    }
   },
   "source": []
  }
 ],
 "metadata": {
  "celltoolbar": "Create Assignment",
  "kernelspec": {
   "display_name": "Python 3 (ipykernel)",
   "language": "python",
   "name": "python3"
  },
  "language_info": {
   "codemirror_mode": {
    "name": "ipython",
    "version": 3
   },
   "file_extension": ".py",
   "mimetype": "text/x-python",
   "name": "python",
   "nbconvert_exporter": "python",
   "pygments_lexer": "ipython3",
   "version": "3.9.7"
  },
  "toc": {
   "base_numbering": 1,
   "nav_menu": {},
   "number_sections": true,
   "sideBar": true,
   "skip_h1_title": false,
   "title_cell": "Table of Contents",
   "title_sidebar": "Contents",
   "toc_cell": false,
   "toc_position": {},
   "toc_section_display": true,
   "toc_window_display": false
  }
 },
 "nbformat": 4,
 "nbformat_minor": 4
}
