{
 "cells": [
  {
   "cell_type": "markdown",
   "metadata": {
    "id": "05CCRKb99xkU"
   },
   "source": [
    "## Знакомство с библиотеками для анализа данных. NumPy\n",
    "\n",
    "Результат лабораторной работы − отчет в формате ноутбука Jupyter (ipynb-файл). Постарайтесь сделать ваш отчет интересным рассказом, последовательно отвечающим на вопросы из заданий. Помимо ответов на вопросы, в отчете так же должен быть код, однако чем меньше кода, тем лучше всем: нам − меньше проверять, вам —  проще найти ошибку или дополнить эксперимент. При проверке оценивается четкость ответов на вопросы, аккуратность отчета и кода.\n",
    "\n",
    "### О задании\n",
    "\n",
    "Лабораторные работы \"NumPy\" и \"Pandas\" направлены на работу с пакетами NumPy, Pandas и Matplotlib путём решения набора задач (да, алгебры и геометрии тут почти нет). В данных заданиях разрешено пользоваться только стандартной библиотекой языка Python, а также пакетами NumPy, Pandas и Matplotlib. Целью заданий является редактирование данного jupyter notebook-a (в части блоков с кодом на python) таким образом, чтобы были реализованы указанные в заданиях функции.\n",
    "\n",
    "\n",
    "### Оценивание и штрафы\n",
    "\n",
    "* Каждая из задач имеет определенную «стоимость» (указана в скобках около задачи)\n",
    "* «Похожие» решения считаются плагиатом и все задействованные студенты (в том числе те, у кого списали) не могут получить за него больше 0 баллов\n",
    "* Если вы нашли решение какого-то из заданий в открытом источнике, необходимо добавить ссылку на этот источник (скорее всего вы будете не единственным, кто это нашел, поэтому чтобы исключить подозрение в плагиате, необходима ссылка на источник)\n",
    "* Не оцениваются задания с удалёнными формулировками\n",
    "* Не оценивается лабораторная работа целиком, если она была выложена в открытый источник"
   ]
  },
  {
   "cell_type": "markdown",
   "metadata": {
    "id": "zGNhHMIc9xkc"
   },
   "source": [
    "### Знакомство с Numpy\n",
    "\n",
    "Во всех заданиях данного ноутбука **запрещено** использовать циклы (ключевые слова *for* и *while*), [list comprehension](https://habrahabr.ru/post/30232/), [map и т.п.](http://pythonicway.com/python-functinal-programming)\n",
    "\n",
    "Для каждой задачи приведите примеры использования реализованных функций. Без примеров баллы за задание будут снижены в 2 раза, примеры должны отличаться от тех что приведены в самом задании\n",
    "\n",
    "Под матрицей в заданиях понимается двумерный [numpy.array](https://docs.scipy.org/doc/numpy/reference/generated/numpy.array.html)"
   ]
  },
  {
   "cell_type": "code",
   "execution_count": 4,
   "metadata": {
    "executionInfo": {
     "elapsed": 442,
     "status": "ok",
     "timestamp": 1651123765464,
     "user": {
      "displayName": "Виталий Романович Данилко",
      "userId": "06905145231989850532"
     },
     "user_tz": -300
    },
    "id": "y5B8oFzC9xkd"
   },
   "outputs": [],
   "source": [
    "import numpy as np"
   ]
  },
  {
   "cell_type": "markdown",
   "metadata": {
    "id": "ASJ-bja19xke"
   },
   "source": [
    "**(0.25 балла) Задание 1.** Реализуйте функцию, принимающую на вход матрицу ```X``` и два массива индексов ```indices1``` и ```indices2``` одинаковой длины и возвращающую np.array, состоящий из последовательности элементов \n",
    "\n",
    "```[X[indices1[0], indices2[0]], ... , X[indices1[N-1], indices2[N-1]]]```"
   ]
  },
  {
   "cell_type": "code",
   "execution_count": 11,
   "metadata": {
    "colab": {
     "base_uri": "https://localhost:8080/",
     "height": 198
    },
    "executionInfo": {
     "elapsed": 404,
     "status": "error",
     "timestamp": 1651123785644,
     "user": {
      "displayName": "Виталий Романович Данилко",
      "userId": "06905145231989850532"
     },
     "user_tz": -300
    },
    "id": "TByKgWmV9xke",
    "outputId": "c5530a0d-6a72-4368-daa4-9a89ca12b6e6"
   },
   "outputs": [],
   "source": [
    "def construct_array(X, indices1, indices2):\n",
    "    return X[indices1, indices2]\n",
    "\n",
    "\n",
    "assert np.allclose (construct_array(np.array([[1,2,3], [4,5,6], [7,8,9], [10, 11, 12]]), [1, 2, 3], [2, 1, 0]), np.array([6,8, 10]))\n",
    "assert np.allclose (construct_array(np.array([[0,1,2,3], [3,4,5,6], [6,7,8,9], [9, 10, 11, 12]]), [1, 1, 0, 2], [0, 1, 3, 1]), np.array([3,4,3,7]))"
   ]
  },
  {
   "cell_type": "markdown",
   "metadata": {
    "id": "n7iq9-ji9xke"
   },
   "source": [
    "**(0.25 балла) Задача 2.** Реализуйте функцию, которая на вход принимает два массива ```X``` и ```Y``` (массивы могут быть n-мерные, но их размерности должны совпадать), а возвращает **True** если они равны и **False** - иначе."
   ]
  },
  {
   "cell_type": "code",
   "execution_count": 12,
   "metadata": {
    "colab": {
     "base_uri": "https://localhost:8080/",
     "height": 198
    },
    "executionInfo": {
     "elapsed": 281,
     "status": "error",
     "timestamp": 1651123953027,
     "user": {
      "displayName": "Виталий Романович Данилко",
      "userId": "06905145231989850532"
     },
     "user_tz": -300
    },
    "id": "cZLXoPS-9xkf",
    "outputId": "2581a4d3-ff22-425b-a573-b61bdbf1b200"
   },
   "outputs": [],
   "source": [
    "def detect_identic(X, Y):\n",
    "    if((X-Y).sum() == 0): return True \n",
    "    else: return False\n",
    "\n",
    "assert np.allclose (detect_identic(np.array([[1,2,3], [4,5,6], [7,8,9], [10, 11, 12]]), np.array([[1,2,3], [4,5,6], [7,8,9], [10, 11, 11]])), False)\n",
    "assert np.allclose (detect_identic(np.array([[1,2,3], [4,5,6], [7,8,9], [10, 11, 12]]), np.array([[1,2,3], [4,5,6], [7,8,9], [10, 11, 12]])), True)\n",
    "assert np.allclose (detect_identic(np.array([[0,1,2,3], [3,4,5,6], [6,7,8,9], [9,10, 11, 12]]), np.array([[0,1,2,3], [3,4,5,6], [6,7,8,9], [9, 10, 11, 12]])), True)"
   ]
  },
  {
   "cell_type": "markdown",
   "metadata": {
    "id": "aUociXzn9xkf"
   },
   "source": [
    "**(0.25 балла) Задание 3.** Реализуйте функцию, которая на вход принимает цветное изображение ```X``` (трехмерный вектор размера (n, m, 3)) и возвращает среднее значение по трём каналам (вектор длины 3)."
   ]
  },
  {
   "cell_type": "code",
   "execution_count": 5,
   "metadata": {
    "id": "cmMLkZ969xkf"
   },
   "outputs": [],
   "source": [
    "def mean_channel(X):\n",
    "    a = X.shape \n",
    "    c = a[0]*a[1]\n",
    "    d0 = ((X*[1, 0, 0]).sum())/c\n",
    "    d1 = ((X*[0, 1, 0]).sum())/c\n",
    "    d2 = ((X*[0, 0, 1]).sum())/c\n",
    "    return np.array([d0, d1, d2])\n",
    "\n",
    "\n",
    "assert np.allclose (mean_channel(np.arange(27).reshape((3, 3, 3))), np.array([12., 13., 14.]))\n",
    "assert np.allclose (mean_channel(np.arange(36).reshape((3, 4, 3))), np.array([16.5, 17.5, 18.5]))"
   ]
  },
  {
   "cell_type": "markdown",
   "metadata": {
    "id": "RTbCK5uK9xkg"
   },
   "source": [
    "**(0.25 балла) Задание 4. ** Реализуйте функцию, принимающую на вход матрицу ```X``` и некоторое число ```a``` и возвращающую ближайший к числу элемент матрицы.\n",
    "\n",
    "Например, для ```X = np.arange(0,10).reshape((2, 5))``` и ```a = 3.6``` ответом будет 4."
   ]
  },
  {
   "cell_type": "code",
   "execution_count": 4,
   "metadata": {
    "id": "MWEMcNut9xkg"
   },
   "outputs": [],
   "source": [
    "import numpy as np\n",
    "def nearest_value(X, a):\n",
    "    ones_matr = np.ones_like(X)\n",
    "    matr2 = X - ones_matr*a\n",
    "    abs_matr2 = np.absolute(matr2)\n",
    "    minn = np.min(abs_matr2)\n",
    "    if (minn - int(minn)) == 0.5: return (int(a+minn-0.00000001))\n",
    "    else: return (int(a+minn))\n",
    "\n",
    "assert np.allclose (nearest_value(np.arange(0,1000).reshape((10, 10, 10)), -1), 0)\n",
    "assert np.allclose (nearest_value(np.arange(0,1000).reshape((10, 10, 10)), 160.5), 160)\n",
    "assert np.allclose (nearest_value(np.arange(0,1000).reshape((10, 10, 10)), 160.6), 161)\n",
    "assert np.allclose (nearest_value(np.arange(0,16).reshape((2, 2, 4)), 2.5), 2)"
   ]
  },
  {
   "cell_type": "markdown",
   "metadata": {
    "id": "LwWe6VaV9xkg"
   },
   "source": [
    "**(0.5 балла) Задача 5.** Реализуйте функцию, принимающую на вход два одномерных массива ```x``` и ```y``` и возвращающую матрицу, в которой первый массив соответствует первому столбцу матрицы, второй - второму.\n",
    "\n",
    "В этом задании **запрещается** пользоваться операцией транспонирования и рекомедуется воспользоваться методом [reshape](https://docs.scipy.org/doc/numpy-1.13.0/reference/generated/numpy.reshape.html)."
   ]
  },
  {
   "cell_type": "code",
   "execution_count": 6,
   "metadata": {
    "id": "qN452qQK9xkh"
   },
   "outputs": [],
   "source": [
    "def construct_matrix(x, y):\n",
    "    x1 = x.shape\n",
    "    y1 = y.shape\n",
    "    a0 = x.reshape(x1[0], 1)\n",
    "    a1 = y.reshape(y1[0], 1)\n",
    "    n = a0*[1, 0] + a1*[0, 1]\n",
    "    return n\n",
    "\n",
    "    \n",
    "assert np.allclose (construct_matrix(np.arange(0, 6), np.arange(6, 12)), np.array([[0, 6], [1, 7], [2, 8], [3, 9], [4, 10], [5, 11]]))\n",
    "assert np.allclose (construct_matrix(np.arange(4, 7), np.arange(6, 9)), np.array([[4, 6], [5, 7], [6, 8]]))"
   ]
  },
  {
   "cell_type": "markdown",
   "metadata": {
    "id": "BUZOOaSN9xkh"
   },
   "source": [
    "**(0.5 балла) Задание 6.** Реализуйте функцию, которая на вход принимает вектор ```x```, содержащий целые числа, кроме 0, а возвращает вектор со вставленными нулями между числами.\n",
    "\n",
    "Например, из ```[1, -5, 3]``` получить ```[1, 0, -5, 0, 3]```"
   ]
  },
  {
   "cell_type": "code",
   "execution_count": 7,
   "metadata": {
    "id": "4p_uxRwC9xkh"
   },
   "outputs": [],
   "source": [
    "def add_zeros(x):\n",
    "    x1 = x.shape\n",
    "    a0 = x.reshape(x1[0], 1)\n",
    "    r = np.arange(1, len(a0))\n",
    "    c = np.insert(a0, r, 0)\n",
    "    return c\n",
    "\n",
    "\n",
    "\n",
    "assert np.allclose (add_zeros(np.arange(1, 10)), np.array([1., 0., 2., 0., 3., 0., 4., 0., 5., 0., 6., 0., 7., 0., 8., 0., 9.]))\n",
    "assert np.allclose (add_zeros(np.array([1])), np.array([1]))\n",
    "assert np.allclose (add_zeros(np.array([])), np.array([]))\n",
    "assert np.allclose (add_zeros(np.array([2, 4, 6, 8, 10 ])), np.array([2, 0, 4, 0, 6, 0, 8, 0, 10]))"
   ]
  },
  {
   "cell_type": "markdown",
   "metadata": {
    "id": "ygrEe54G9xki"
   },
   "source": [
    "**(0.75 балла) Задание 7.** Реализуйте функцию для подсчёта произведения ненулевых элементов на диагонали прямоугольной матрицы\n",
    "\n",
    "Например, для ```X = np.array([[1, 0, 1], [2, 0, 2], [3, 0, 3], [4, 4, 4]])``` ответом является 3. Если ненулевых элементов нет, функция должна возвращать ```None```."
   ]
  },
  {
   "cell_type": "code",
   "execution_count": 8,
   "metadata": {
    "id": "Yiw0Rz8u9xki"
   },
   "outputs": [],
   "source": [
    "import numpy as np\n",
    "\n",
    "def nonzero_product(X):\n",
    "    n = X.shape\n",
    "    if n[0] < n[1]:\n",
    "        X = X.transpose()\n",
    "    n = X.shape\n",
    "    b = np.arange(n[1])\n",
    "    matr = np.einsum('ii -> i', X[b])\n",
    "    if matr.sum() == 0: \n",
    "        return None\n",
    "    else:\n",
    "        rr = np.where(matr == 0, 1, matr)\n",
    "        return(np.prod(rr))     \n",
    "\n",
    "assert np.allclose (nonzero_product(np.array([[3, 3, 3], [5, 5, 5], [7, 7, 0]])), 15)\n",
    "assert nonzero_product(np.array([[0, 3, 3], [5, 0, 5], [7, 7, 0]])) == None\n",
    "assert np.allclose (nonzero_product(np.array([[3, 0, 3, 5], [5, 0, 5, 7], [7, 0, 7, 0], [3, 4, 6, 0]])), 21)\n",
    "assert np.allclose (nonzero_product(np.array([[1, 0, 2, 0], [3, 0, 4, 0], [5, 0, 6, 0]])), 6)"
   ]
  },
  {
   "cell_type": "markdown",
   "metadata": {
    "id": "o8wpHaWc9xkj"
   },
   "source": [
    "**(0.75 балла) Задание 8.** Реализуйте функцию, возвращающую максимальный элемент в массиве ```X``` среди элементов, перед которыми стоит нулевой.\n",
    "\n",
    "Например, для ```X = np.array([6, 2, 0, 3, 0, 0, 5, 7, 0])``` ответом является 5. Если подходящих элементов нет, функция должна возвращать ```None```."
   ]
  },
  {
   "cell_type": "code",
   "execution_count": 24,
   "metadata": {
    "id": "7kduf8xO9xkj"
   },
   "outputs": [],
   "source": [
    "import numpy as np\n",
    "\n",
    "\n",
    "def max_element(X):\n",
    "    X = np.append(X, 0, axis=None)\n",
    "    X = np.append(X, 0, axis=None)\n",
    "    zero = (X == 0)\n",
    "    if X[1:][zero[:-1]].max() != 0:\n",
    "        ans = X[1:][zero[:-1]].max()\n",
    "        return ans\n",
    "    else:\n",
    "        return None\n",
    "\n",
    "\n",
    "assert max_element(np.array([1,2,3,4,5])) == None\n",
    "assert max_element(np.array([1,0,0,0,0])) == None\n",
    "assert np.allclose(max_element(np.array([1,0,3,2,0])), 3)\n",
    "assert np.allclose(max_element(np.array([1,0,0,2,0])), 2)\n",
    "assert np.allclose(max_element(np.array([1,0, 0, 0, 0, 0, 0, 3])), 3)\n",
    "assert max_element(np.array([])) == None"
   ]
  },
  {
   "cell_type": "markdown",
   "metadata": {
    "id": "Q_eMfz4R9xkk"
   },
   "source": [
    "**(0.75 балла) Задание 9.** Реализуйте функцию, принимающую на вход матрицу ```X``` и возвращающую все её уникальные строки в виде матрицы."
   ]
  },
  {
   "cell_type": "code",
   "execution_count": 4,
   "metadata": {
    "id": "PoBcy7ew9xkk"
   },
   "outputs": [],
   "source": [
    "import numpy as np\n",
    "def get_unique_rows(X):\n",
    "    unique_rows = np.unique(X, axis=0)\n",
    "    return unique_rows\n",
    "\n",
    "\n",
    "assert np.allclose (get_unique_rows(np.array([[1, 2], [1, 9], [1, 2],[1, 9]])), np.array([[1, 2], [1, 9]]))\n",
    "assert np.allclose (get_unique_rows(np.zeros((10,10))), np.zeros(10))\n",
    "assert np.allclose (get_unique_rows(np.array([[1, 2, 1], [1, 1, 1], [1, 0, 1], [1, 2, 1], [1, 0, 1]])), np.array([[1, 0, 1], [1, 1, 1], [1, 2, 1]]))"
   ]
  },
  {
   "cell_type": "markdown",
   "metadata": {
    "id": "V4mpi9sK9xkl"
   },
   "source": [
    "**(0.75 балла) Задача 10.** Реализуйте функцию, которая во входной вещественной матрице ```X``` находит все значения ```nan``` и заменяет их на среднее арифметическое всех остальных элементов. Если все элементы матрицы ```nan```, то верните нулевую матрицу той же размерности."
   ]
  },
  {
   "cell_type": "code",
   "execution_count": 2,
   "metadata": {
    "id": "42JxSWP_9xkl"
   },
   "outputs": [],
   "source": [
    "import numpy as np\n",
    "import pandas as pd\n",
    "\n",
    "\n",
    "def replace_nans(X):\n",
    "    df = pd.DataFrame(X)\n",
    "    nan_arr = np.isnan(X)\n",
    "    num_nan = np.sum(nan_arr)\n",
    "\n",
    "    if num_nan != X.size:\n",
    "        a = np.nanmean(X)\n",
    "        res = df.fillna(a)\n",
    "    else:\n",
    "        res = np.zeros(X.shape)\n",
    "\n",
    "    return res\n",
    "    \n",
    "    \n",
    "\n",
    "assert np.allclose (replace_nans(np.array([np.nan, np.nan])), np.zeros(2))\n",
    "assert np.allclose (replace_nans(np.array([[2, np.nan], [np.nan, 3]])), np.array([[2., 2.5], [2.5, 3.]]))\n",
    "assert np.allclose (replace_nans(np.array([[np.nan, np.nan], [np.nan, np.nan], [np.nan, np.nan]])), np.zeros((3, 2)))\n",
    "assert np.allclose (replace_nans(np.array([[np.nan, 0], [0, 0], [np.nan, np.nan]])), np.array([[0, 0], [0, 0], [0, 0]]))"
   ]
  },
  {
   "cell_type": "markdown",
   "metadata": {
    "id": "wv-5HDCO9xkm"
   },
   "source": [
    "**(1 балл) Задача 11.** Напишите функцию, генерирующую [матрицу Вандермонда](https://ru.wikipedia.org/wiki/Определитель_Вандермонда), принимающую на вход вектор $(x_1, ... , x_n)$.\n",
    "\n",
    "В этом задании **запрещается** пользоваться готовыми реализациями (например, [numpy.vander](https://docs.scipy.org/doc/numpy-1.13.0/reference/generated/numpy.vander.html)), а также [np.repeat](https://docs.scipy.org/doc/numpy/reference/generated/numpy.repeat.html) и [np.transpose](https://docs.scipy.org/doc/numpy/reference/generated/numpy.transpose.html).\n",
    "\n",
    "При решении задействуйте [np.reshape](https://docs.scipy.org/doc/numpy/reference/generated/numpy.reshape.html) и/или [np.newaxis](https://docs.scipy.org/doc/numpy-1.13.0/reference/arrays.indexing.html)."
   ]
  },
  {
   "cell_type": "code",
   "execution_count": null,
   "metadata": {
    "id": "QLJh7f0k9xkm"
   },
   "outputs": [],
   "source": [
    "def vander(x):\n",
    "    # Your code here\n",
    "\n",
    "\n",
    "assert np.allclose (np.vander(np.array([]), increasing=True), vander(np.array([])))\n",
    "assert np.allclose (np.vander(np.array([1, 2, 3, 5]), increasing=True), vander(np.array([1, 2, 3, 5])))"
   ]
  },
  {
   "cell_type": "markdown",
   "metadata": {
    "id": "0XHxrvrT9xkn"
   },
   "source": [
    "**(1 балл) Задача 12.** Даны две вещественные матрицы ```X``` и ```Y``` с одинаковым числом столбцов и, в общем случае, различным числом строк. Необходимо реализовать функцию, вычисляющую матрицу попарных [косинусных коэффициентов](https://en.wikipedia.org/wiki/Cosine_similarity) между всеми $X_i$ и $Y_j$, где $X_i$ - $i$-ая строка матрицы $X$, а $Y_j$ - $j$-ая строка матрицы $Y$. \n",
    "\n",
    "В этом задании **запрещается** пользоваться готовыми реализациями, а также [np.repeat](https://docs.scipy.org/doc/numpy/reference/generated/numpy.repeat.html) и [np.transpose](https://docs.scipy.org/doc/numpy/reference/generated/numpy.transpose.html).\n",
    "\n",
    "При решении задействуйте [np.reshape](https://docs.scipy.org/doc/numpy/reference/generated/numpy.reshape.html) и/или [np.newaxis](https://docs.scipy.org/doc/numpy-1.13.0/reference/arrays.indexing.html), [np.sqrt](https://docs.scipy.org/doc/numpy/reference/generated/numpy.sqrt.html), [np.sum](https://docs.scipy.org/doc/numpy/reference/generated/numpy.sum.html) и [np.power](https://docs.scipy.org/doc/numpy/reference/generated/numpy.power.html)."
   ]
  },
  {
   "cell_type": "code",
   "execution_count": 18,
   "metadata": {
    "id": "Bhj2ctKM9xkn"
   },
   "outputs": [],
   "source": [
    "import numpy as np\n",
    "\n",
    "\n",
    "def get_vector_len(x):\n",
    "    vec_len = np.sqrt(np.sum(np.power(x,2)))\n",
    "    return vec_len\n",
    "\n",
    "\n",
    "def cos_vec(x, y):\n",
    "    cos = np.dot(x, y) / (get_vector_len(x)*get_vector_len(y))\n",
    "    return cos\n",
    "\n",
    "\n",
    "def count_cosine_similarity(X, Y):\n",
    "    size_x, size_clm = X.shape\n",
    "    size_y = Y.shape[0]\n",
    "    ans = np.fromfunction(np.vectorize(lambda i, j: cos_vec(X[i], Y[j])), (size_x, size_y), dtype=int)\n",
    "    return ans\n",
    "\n",
    "\n",
    "\n",
    "assert np.allclose (count_cosine_similarity(np.array([[1, 2], [4, 8], [1, 2]]), np.array([[1, 2], [4, 2]])), np.array([[1, 0.8], [1, 0.8], [1, 0.8]]))\n",
    "assert np.allclose (count_cosine_similarity(np.ones((10, 5)), np.ones((3, 5))), np.ones((10, 3)))\n",
    "assert np.allclose (count_cosine_similarity(np.array([[1, 0, 0], [0, 1, 0], [0, 0, 1]]), np.array([[4, 0, 3], [0, 4, 0]])), np.array([[0.8, 0.], [0., 1.], [0.6, 0.]]))\n"
   ]
  }
 ],
 "metadata": {
  "colab": {
   "name": "NumPy.ipynb",
   "provenance": []
  },
  "kernelspec": {
   "display_name": "Python 3 (ipykernel)",
   "language": "python",
   "name": "python3"
  },
  "language_info": {
   "codemirror_mode": {
    "name": "ipython",
    "version": 3
   },
   "file_extension": ".py",
   "mimetype": "text/x-python",
   "name": "python",
   "nbconvert_exporter": "python",
   "pygments_lexer": "ipython3",
   "version": "3.9.7"
  }
 },
 "nbformat": 4,
 "nbformat_minor": 1
}
