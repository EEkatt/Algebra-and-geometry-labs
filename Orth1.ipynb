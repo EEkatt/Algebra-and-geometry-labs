{
 "cells": [
  {
   "cell_type": "markdown",
   "metadata": {},
   "source": [
    "# Задание по лекциям 1.\n",
    "\n",
    "- Не нужно использовать эффективные вычислительные алгоритмы. Нужно использовать те алгоритмы, что были представлены на лекции или практических занятиях. \n",
    "- Остальное как обычно: за \"похожие\" решения всем задействованным 0 баллов; если используете решение из открытого источника — обязательно вставьте ссылку; не удаляйте формулировки; не выкладывайте в открытый источник.\n",
    "- Можно использовать `numpy.array` для матриц и матричной арифметики и `numpy.linalg` для подсчёта ранга и определителя, для вычисления обратной матрицы, решения СЛУ и т.п. То есть то, что вы уже реализовывали в прошлом семестре, ещё раз реализовывать необязательно. Более того, можно использовать в любом из *заданий по лекциям* функции, реализованные ранее в других *заданиях по лекциям*. Если возникнут сомнения, можно ли использовать ту или иную функцию — лучше сразу поинтересуйтесь у меня."
   ]
  },
  {
   "cell_type": "markdown",
   "metadata": {},
   "source": [
    "$\\mathbb{R}^n$ — вещественнозначное пространство вектор-**столбцов**."
   ]
  },
  {
   "cell_type": "markdown",
   "metadata": {},
   "source": [
    "**(1 балл) Задание 1.** Реализовать функцию, принимающую на вход два набора \n",
    "$$\n",
    "u = (u_1, \\ldots, u_n),\\ v = (v_1,\\ldots,v_n)\n",
    "$$\n",
    "координат векторов (в стандартном базисе) из пространства $\\mathbb{R}^n$, и выдающую \n",
    "- матрицу перехода от базиса $u$ к базису $v$, если оба этих набора являются базисами;\n",
    "- None, иначе (альтернативный вариант — кидать исключение)."
   ]
  },
  {
   "cell_type": "code",
   "execution_count": 4,
   "metadata": {
    "scrolled": true
   },
   "outputs": [],
   "source": [
    "import numpy as np \n",
    "import scipy.linalg as sla\n",
    "\n",
    "def transition(u, v):\n",
    "    u = u.T\n",
    "    v = v.T\n",
    "    det_u = sla.det(u)\n",
    "    det_v = sla.det(v)\n",
    "    if det_u == 0 or det_v == 0: \n",
    "        return None\n",
    "    else:\n",
    "        return (np.dot(sla.inv(u), v))\n",
    "    \n",
    "\n",
    "\n",
    "assert np.allclose (transition(np.array([[1, 2, 1], [2, 3, 3], [3, 8, 2]]), np.array([[3, 5, 8], [5, 14, 13], [1, 9, 3]])), np.array([[-27., -71., -48.], [9., 20., 11.], [4., 12., 9.]]))\n",
    "assert transition(np.array([[1, 2, 1], [2, 4, 2], [3, 8, 2]]), np.array([[3, 5, 8], [5, 14, 13], [1, 9, 3]])) == None"
   ]
  },
  {
   "cell_type": "markdown",
   "metadata": {},
   "source": [
    "> Если на всход подается матрица записи вида: $u = np.array[[u_1], [u_2], ... ,[u_n]]$, где $[u_i]$ содержит координаты вектора $u_i$, то для получения ответа нам надо ее транспонировать, чтобы координаты векторов располагались вертикально.\n",
    "\n",
    "> Если на вход подается матрица, координаты векторов которой сразу расположены вертикально, то операции транспонирования не нужны.\n",
    "$$\n",
    "\\begin{pmatrix}\n",
    "| & | & ... & |\\\\\n",
    "u_1 & u_2 & ... & u_n\\\\\n",
    "| & | & ... & |\n",
    "\\end{pmatrix}\n",
    "$$ \n",
    "\n",
    "> Я рассмотрела первый вариант, мне кажется так проще задавать матрицу, зная вектора, потому что их так легче записать."
   ]
  },
  {
   "cell_type": "markdown",
   "metadata": {},
   "source": [
    "**(1 балл) Задание 2.** Реализовать функцию, принимающую на вход матрицу $A$ линейного оператора $\\varphi: \\mathbb{R}^n \\to \\mathbb{R}^n$ (в стандартном базисе) и набор координат $u = (u_1,\\ldots,u_n)$ вектор-столбцов, и выдающую \n",
    "- матрицу оператора $\\varphi$ в базисе $u$, если $u$ является базисом;\n",
    "- None, иначе (альтернативный вариант — кидать исключение)."
   ]
  },
  {
   "cell_type": "code",
   "execution_count": 6,
   "metadata": {},
   "outputs": [],
   "source": [
    "import numpy as np \n",
    "import scipy.linalg as sla\n",
    "\n",
    "def lin_operator(A, u):        \n",
    "    #u = u.T\n",
    "    det_u = sla.det(u)\n",
    "    if det_u == 0: \n",
    "        return None\n",
    "    else:\n",
    "        reverse_u = sla.inv(u)\n",
    "        trans_matrix = np.dot(reverse_u, A).dot(u)\n",
    "        return (trans_matrix)\n",
    "\n",
    "    \n",
    "    \n",
    "assert np.allclose (lin_operator(np.array([[1., 2., 0., 1.], [3., 0., -1., 1.], [2., 5., 3., 1.], [1., 2., 1., 3.]]), np.array([[1., 1., 1., 1.], [0., 1., 1., 1.], [0., 0., 1., 1.], [0., 0., 0., 1.]])), np.array([[-2., 0., 1., 1.], [1., -4., -8., -8.], [1., 4., 6., 4.], [1., 3., 4., 7.]]))\n",
    "assert lin_operator(np.array([[1., 0.], [0., 2.]]), np.array([[-2, 4], [-1, 2]])) == None"
   ]
  },
  {
   "cell_type": "markdown",
   "metadata": {},
   "source": [
    "> Записть матрицы так же идет по векторам, иначе нужно транспонировать атрицу $u$"
   ]
  },
  {
   "cell_type": "markdown",
   "metadata": {},
   "source": [
    "**(1.5 балла) Задание 3.** Реализовать функции, которые по данной матрице $A$ линейного оператора $\\varphi: \\mathbb{R}^n \\to \\mathbb{R}^n$ в стандартном базисе, выдадут:\n",
    "\n",
    "- базис образа $\\varphi$ (0.5 балла)\n",
    "- базис ядра $\\varphi$ (0.75 балла)\n",
    "- размерности ядра и образа $\\varphi$ (0.25 балла)"
   ]
  },
  {
   "cell_type": "code",
   "execution_count": 29,
   "metadata": {},
   "outputs": [],
   "source": [
    "\n",
    "import numpy as np \n",
    "import scipy.linalg as sla\n",
    "from scipy import linalg\n",
    "import sympy\n",
    "\n",
    "# один из способов найти базис оболочки оператора\n",
    "def image_fun(A):\n",
    "    A = A.T\n",
    "    _, indx = sympy.Matrix(A).T.rref()\n",
    "    indx = np.array(indx)\n",
    "    return(A[indx])\n",
    "\n",
    "\n",
    "assert np.allclose (image_fun(np.array([[1., 0., 0., 0.], [0., 0., 0., 0.], [1., 0., 0., 0.], [0., 0., 0., 1.]])), np.array([[1, 0, 1, 0], [0, 0, 0, 1]]))\n",
    "assert np.allclose (image_fun(np.array([[1, 0, 1], [1, 1, 2], [0, 2, 2]])), np.array([[1, 1, 0], [0, 1, 2]]))\n",
    "assert np.allclose (image_fun(np.array([[4, -5, 2], [5,-7, 3], [6, -9, 4]])), np.array([[4, 5, 6], [-5,-7, -9]]))\n",
    "\n",
    "    \n",
    "#находнеие размерноти ядра и образа оператора\n",
    "def dimension_fun(A):\n",
    "    dim_im = np.linalg.matrix_rank(A)\n",
    "    size_r = np.shape(A)[1]\n",
    "    dim_ker = size_r - dim_im\n",
    "    return (dim_im, dim_ker)\n",
    "\n",
    "\n",
    "assert np.allclose (dimension_fun(np.array([[4, 5, 6], [-5,-7, -9], [2, 3, 4]])), (2, 1))\n",
    "assert np.allclose (dimension_fun(np.array([[1., 0., 0., 0.], [0., 0., 0., 0.], [1., 0., 0., 0.], [0., 0., 0., 1.]])), (2, 2))\n",
    "assert np.allclose (dimension_fun(np.array([[1, 0, 1], [1, 1, 2], [0, 2, 2]])), (2, 1))\n",
    "\n",
    "\n"
   ]
  },
  {
   "cell_type": "code",
   "execution_count": 30,
   "metadata": {},
   "outputs": [
    {
     "name": "stdout",
     "output_type": "stream",
     "text": [
      "базис образа  𝜑: \n",
      " [[1. 0. 1.]\n",
      " [0. 1. 1.]]\n",
      "базис ядра  𝜑: \n",
      " [[ 2. -2.  1.]]\n"
     ]
    }
   ],
   "source": [
    "import numpy as np \n",
    "\n",
    "\n",
    "def triangular_view(A_matrix):\n",
    "    size = A_matrix.shape\n",
    "    E = np.eye(size[1])\n",
    "    new_matrix = np.concatenate((A_matrix.T, E), axis=1)\n",
    "    new_size = new_matrix.shape\n",
    "    n = new_size[0]\n",
    "    for t in range(n):\n",
    "        if new_matrix[t][t] == 0:\n",
    "            i = t + 1\n",
    "            while i < n and new_matrix[t][t] == 0:\n",
    "                if new_matrix[i][t] != 0:\n",
    "                    for j in range(2 * n):\n",
    "                        new_matrix[t][j] += new_matrix[i][j]\n",
    "                i += 1\n",
    "        if new_matrix[t][t] != 0:\n",
    "            for i in range(t + 1, n):\n",
    "                c = new_matrix[i][t] / new_matrix[t][t]\n",
    "                for j in range(t, 2 * n):\n",
    "                    new_matrix[i][j] -= new_matrix[t][j] * c\n",
    "    return new_matrix\n",
    "\n",
    "\n",
    "def free_view(A):\n",
    "    new_matrix = triangular_view(A)\n",
    "    size = A.shape\n",
    "    ker = np.zeros(size[0])\n",
    "    im = np.zeros(size[0])\n",
    "    A_mat = np.array(A).astype(np.float64)\n",
    "    B_mat = np.array(A).astype(np.float64)\n",
    "    for i in range(size[0]):\n",
    "        for j in range(size[1]):\n",
    "            A_mat[i][j] = new_matrix[i][j]\n",
    "\n",
    "    for i in range(size[0]):\n",
    "        for j in range(size[1]):\n",
    "            B_mat[i][j] = new_matrix[i][j+size[1]]\n",
    "    i = 0\n",
    "    for row in A_mat:\n",
    "        if row.any() == 0:\n",
    "            ker = np.vstack((ker, B_mat[i]))\n",
    "        if row.any() != 0:\n",
    "            im = np.vstack((im, row))\n",
    "        i += 1\n",
    "    im = np.delete(im,(0), axis = 0)\n",
    "    ker = np.delete(ker, (0), axis=0)\n",
    "    return (im, ker)\n",
    "\n",
    "\n",
    "    \n",
    "if __name__ == '__main__':\n",
    "    A = np.array([[1, 1, 0], [0, 1, 2], [1, 2, 2]])\n",
    "    im, ker = free_view(A)\n",
    "    print ('базис образа  𝜑:', '\\n', im)\n",
    "    print ('базис ядра  𝜑:', '\\n', ker)"
   ]
  },
  {
   "cell_type": "markdown",
   "metadata": {},
   "source": [
    "> Релизован алгоритм Чуркина."
   ]
  },
  {
   "cell_type": "markdown",
   "metadata": {},
   "source": [
    "**(1 балл) Задание 4.** Реализовать функцию, принимающую на вход матрицу $A$ линейного оператора $\\varphi: \\mathbb{R}^n \\to \\mathbb{R}^n$ (в стандартном базисе) и набор координат $u = (u_1,\\ldots,u_k),\\ k\\le n$ вектор-столбцов, и выдающую \n",
    "- True, если линейная оболочка векторов $(u_1,\\ldots, u_k)$ является $\\varphi$-инвариантным подпространством.\n",
    "- False, иначе."
   ]
  },
  {
   "cell_type": "code",
   "execution_count": null,
   "metadata": {},
   "outputs": [],
   "source": []
  }
 ],
 "metadata": {
  "celltoolbar": "Create Assignment",
  "kernelspec": {
   "display_name": "Python 3 (ipykernel)",
   "language": "python",
   "name": "python3"
  },
  "language_info": {
   "codemirror_mode": {
    "name": "ipython",
    "version": 3
   },
   "file_extension": ".py",
   "mimetype": "text/x-python",
   "name": "python",
   "nbconvert_exporter": "python",
   "pygments_lexer": "ipython3",
   "version": "3.9.7"
  },
  "toc": {
   "base_numbering": 1,
   "nav_menu": {},
   "number_sections": true,
   "sideBar": true,
   "skip_h1_title": false,
   "title_cell": "Table of Contents",
   "title_sidebar": "Contents",
   "toc_cell": false,
   "toc_position": {},
   "toc_section_display": true,
   "toc_window_display": false
  }
 },
 "nbformat": 4,
 "nbformat_minor": 4
}
