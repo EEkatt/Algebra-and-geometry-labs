{
 "cells": [
  {
   "cell_type": "markdown",
   "metadata": {},
   "source": [
    "# Задание по лекциям 2.\n",
    "\n",
    "- Не нужно использовать эффективные вычислительные алгоритмы. Нужно использовать те алгоритмы, что были представлены на лекции или практических занятиях. \n",
    "- Остальное как обычно: за \"похожие\" решения всем задействованным 0 баллов; если используете решение из открытого источника — обязательно вставьте ссылку; не удаляйте формулировки; не выкладывайте в открытый источник.\n",
    "- Можно использовать `numpy.array` для матриц и матричной арифметики и `numpy.linalg` для подсчёта ранга и определителя, для вычисления обратной матрицы, решения СЛУ и т.п. То есть то, что вы уже реализовывали в прошлом семестре, ещё раз реализовывать необязательно. Более того, можно использовать в любом из *заданий по лекциям* функции, реализованные ранее в других *заданиях по лекциям*. Если возникнут сомнения, можно ли использовать ту или иную функцию — лучше сразу поинтересуйтесь у меня."
   ]
  },
  {
   "cell_type": "markdown",
   "metadata": {},
   "source": [
    "$\\mathbb{R}^n$ — вещественнозначное пространство вектор-**столбцов** со стандартным скалярным произведением."
   ]
  },
  {
   "cell_type": "markdown",
   "metadata": {},
   "source": [
    "**(1 балл) Задание 5.** Реализовать функцию, принимающую на вход набор координат $u = (u_1,\\ldots,u_k),\\ k\\le n$ вектор-столбцов, и выдающую базис $$v = (v_1,\\ldots,v_m),\\ m \\ge n-k,$$\n",
    "ортогонального дополнения  для линейной оболочки данных векторов."
   ]
  },
  {
   "cell_type": "code",
   "execution_count": 6,
   "metadata": {},
   "outputs": [],
   "source": [
    "import numpy as np\n",
    "import sympy as sp\n",
    "\n",
    "\n",
    "def orthogonal (U):\n",
    "    stepped_U= np.array(sp.Matrix(U).rref()[0])\n",
    "    basis_U = stepped_U[~np.all(stepped_U == 0, axis=1)].astype(np.float64)\n",
    "    ans = np.array((sp.Matrix(basis_U)).nullspace()).astype(np.float64)\n",
    "    size_ans = ans.shape\n",
    "    ans.shape = (size_ans[0], size_ans[1])\n",
    "    return (ans)\n",
    "\n",
    "assert np.allclose (orthogonal(np.array([[1, 2, -1, 0], [2, 0, -1, 3], [11, 10, -8, 9], [14, 12, -10, 12]])), np.array([[0.5, 0.25, 1., 0.], [-1.5, 0.75, 0., 1.]]))\n",
    "assert np.allclose (orthogonal(np.array([[1, 0, 2, 1], [2, 1, 2, 3],[0, 1, -2, 1]])), np.array([[-2., 2., 1., 0.], [-1., -1., 0., 1.]]))"
   ]
  },
  {
   "cell_type": "markdown",
   "metadata": {},
   "source": [
    "**(1 балл) Задание 6.** Реализовать функцию, принимающую на вход набор координат $u = (u_1,\\ldots,u_k),\\ k\\le n$ вектор-столбцов, и выдающую ортонормированный базис $$v = (v_1,\\ldots,v_m),\\ m \\ge n-k,$$\n",
    "для линейной оболочки данных векторов."
   ]
  },
  {
   "cell_type": "code",
   "execution_count": 10,
   "metadata": {},
   "outputs": [],
   "source": [
    "import numpy as np\n",
    "import sympy as sp\n",
    "import scipy.linalg as sla\n",
    "import math\n",
    "\n",
    "U = np.array([[1, 2, -1, 0], [2, 0, -1, 3], [11, 10, -8, 9], [14, 12, -10, 12]])\n",
    "\n",
    "\n",
    "def orthogonal (U):\n",
    "    rank_U = np.linalg.matrix_rank(U)\n",
    "    stepped_U= np.array(sp.Matrix(U).rref()[0])\n",
    "    basis_U = stepped_U[~np.all(stepped_U == 0, axis=1)].astype(np.float64)\n",
    "    ort_basis = []\n",
    "    for i in range(0, rank_U):\n",
    "        sum = 0\n",
    "        ort = (basis_U[i, :])\n",
    "        for j in range(i):\n",
    "            sum += ((np.dot(ort, ort_basis[j])) / np.dot(ort_basis[j], ort_basis[j])) * ort_basis[j]\n",
    "        basis = ort - sum\n",
    "        basis_norm = np.apply_along_axis(lambda x: np.round(x.astype(np.double), 2), 0, basis / math.sqrt(np.dot(basis, basis)))\n",
    "        ort_basis.append(basis_norm)\n",
    "    ans = np.array(ort_basis)\n",
    "    return ans\n",
    "\n",
    "assert np.allclose (orthogonal(np.array([[1, 2, -1, 0], [2, 0, -1, 3], [11, 10, -8, 9], [14, 12, -10, 12]])), np.array([[ 0.53, 0., -0.27, 0.8 ], [ 0.25, 0.86, -0.34, -0.28]]))\n",
    "assert np.allclose (orthogonal(np.array([[1, -2, 3, 1], [2, 1, 0, -1], [3, -1, 3, 0]])), np.array([[0.85, 0., 0.51, -0.17], [0.27, 0.63, -0.59, -0.43]]))\n"
   ]
  },
  {
   "cell_type": "markdown",
   "metadata": {},
   "source": [
    ">В данном случае на вход подается матрица, столбцы которой являются заданными векторами"
   ]
  },
  {
   "cell_type": "markdown",
   "metadata": {},
   "source": [
    "**(1 балл) Задание 7.** Реализовать функцию, принимающую на вход набор координат $u = (u_1,\\ldots,u_k),\\ k\\le n$ линейно независимых вектор-столбцов, и выдающую ортонормированный базис $$v = (v_1,\\ldots,v_n)$$\n",
    "всего пространства, такой что линейная оболочка векторов $(v_1,\\ldots,v_k)$ совпадает с линейной оболочкой векторов $(u_1,\\ldots,u_k)$."
   ]
  },
  {
   "cell_type": "code",
   "execution_count": null,
   "metadata": {},
   "outputs": [],
   "source": []
  }
 ],
 "metadata": {
  "celltoolbar": "Create Assignment",
  "kernelspec": {
   "display_name": "Python 3 (ipykernel)",
   "language": "python",
   "name": "python3"
  },
  "language_info": {
   "codemirror_mode": {
    "name": "ipython",
    "version": 3
   },
   "file_extension": ".py",
   "mimetype": "text/x-python",
   "name": "python",
   "nbconvert_exporter": "python",
   "pygments_lexer": "ipython3",
   "version": "3.9.7"
  },
  "toc": {
   "base_numbering": 1,
   "nav_menu": {},
   "number_sections": true,
   "sideBar": true,
   "skip_h1_title": false,
   "title_cell": "Table of Contents",
   "title_sidebar": "Contents",
   "toc_cell": false,
   "toc_position": {},
   "toc_section_display": true,
   "toc_window_display": false
  }
 },
 "nbformat": 4,
 "nbformat_minor": 4
}
